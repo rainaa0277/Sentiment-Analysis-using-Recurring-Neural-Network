{
  "nbformat": 4,
  "nbformat_minor": 0,
  "metadata": {
    "colab": {
      "name": "Sentiment Analysis using RNN (exam2)- Rishab Raina.ipynb",
      "provenance": [],
      "collapsed_sections": [],
      "mount_file_id": "1Dkv-KF9-v4VCFp-GRWHsuZVdXSiwtW6i",
      "authorship_tag": "ABX9TyMcONKkEtTftXZHNkym6+7Y",
      "include_colab_link": true
    },
    "kernelspec": {
      "name": "python3",
      "display_name": "Python 3"
    },
    "language_info": {
      "name": "python"
    },
    "accelerator": "GPU"
  },
  "cells": [
    {
      "cell_type": "markdown",
      "metadata": {
        "id": "view-in-github",
        "colab_type": "text"
      },
      "source": [
        "<a href=\"https://colab.research.google.com/github/rainaa0277/Sentiment-Analysis-using-Recurring-Neural-Network/blob/main/Sentiment_Analysis_using_RNN.ipynb\" target=\"_parent\"><img src=\"https://colab.research.google.com/assets/colab-badge.svg\" alt=\"Open In Colab\"/></a>"
      ]
    },
    {
      "cell_type": "markdown",
      "source": [
        "**Sentiment Analysis Using RNN**"
      ],
      "metadata": {
        "id": "cMhB0Np9nNCq"
      }
    },
    {
      "cell_type": "code",
      "source": [
        "#Importing Tensor flow version 2.4.1\n",
        "import tensorflow as tf\n",
        "# !pip install Tensorflow==2.4.1\n",
        "print(tf.__version__)"
      ],
      "metadata": {
        "colab": {
          "base_uri": "https://localhost:8080/"
        },
        "id": "v_7Zpf_by84_",
        "outputId": "28b248b6-1efe-4045-f91f-84aa255f3d84"
      },
      "execution_count": 182,
      "outputs": [
        {
          "output_type": "stream",
          "name": "stdout",
          "text": [
            "2.4.1\n"
          ]
        }
      ]
    },
    {
      "cell_type": "markdown",
      "source": [
        "**STEP1: Importing necessary libraries**"
      ],
      "metadata": {
        "id": "vY3NOhZ3ncWV"
      }
    },
    {
      "cell_type": "code",
      "execution_count": 183,
      "metadata": {
        "id": "9ao5SHrbwFNc"
      },
      "outputs": [],
      "source": [
        "import pandas as pd\n",
        "import numpy as np\n",
        "import re\n",
        "import matplotlib.pyplot as plt\n",
        "import seaborn as sns\n",
        "from sklearn.model_selection import train_test_split\n",
        "from sklearn.metrics import confusion_matrix, classification_report, accuracy_score\n",
        "from tensorflow import keras\n",
        "from tensorflow.keras.preprocessing.text import Tokenizer\n",
        "from tensorflow.keras.preprocessing.sequence import pad_sequences\n",
        "from tensorflow.keras.layers import LSTM, Dense, GlobalMaxPooling1D\n",
        "from tensorflow.keras.models import Sequential\n",
        "from tensorflow.keras.models import Model\n",
        "from tensorflow.keras.layers import Flatten\n",
        "from tensorflow.keras.layers import Embedding\n",
        "import itertools\n",
        "import os"
      ]
    },
    {
      "cell_type": "code",
      "source": [
        "# importing and mounting the drive\n",
        "from google.colab import drive"
      ],
      "metadata": {
        "id": "vR2RjBjs2aps"
      },
      "execution_count": 184,
      "outputs": []
    },
    {
      "cell_type": "code",
      "source": [
        "#changing the directory\n",
        "os.chdir(\"/content/drive/MyDrive/Deep Learning/RNN Exam/Datasets\")"
      ],
      "metadata": {
        "id": "IAaqQuom6nyM"
      },
      "execution_count": 185,
      "outputs": []
    },
    {
      "cell_type": "code",
      "source": [
        "# Checking the current directory\n",
        "!dir"
      ],
      "metadata": {
        "colab": {
          "base_uri": "https://localhost:8080/"
        },
        "id": "5hLtLTHW6rp_",
        "outputId": "b339ae5b-63a9-4fce-90e4-b4f6246ee51d"
      },
      "execution_count": 186,
      "outputs": [
        {
          "output_type": "stream",
          "name": "stdout",
          "text": [
            "tweets_test.csv  tweets_train.csv\n"
          ]
        }
      ]
    },
    {
      "cell_type": "markdown",
      "source": [
        "**STEP2 - LOAD THE DATASET FROM DIRECTORY**"
      ],
      "metadata": {
        "id": "Z4-LQCXRn78H"
      }
    },
    {
      "cell_type": "code",
      "source": [
        "df = pd.read_csv(\"tweets_train.csv\")\n",
        "df.head()"
      ],
      "metadata": {
        "colab": {
          "base_uri": "https://localhost:8080/",
          "height": 495
        },
        "id": "o40phNer6-YU",
        "outputId": "bb74194e-5b07-4f18-e1a2-a3ebb71a36d4"
      },
      "execution_count": 187,
      "outputs": [
        {
          "output_type": "execute_result",
          "data": {
            "text/html": [
              "\n",
              "  <div id=\"df-14829d36-fefb-46b9-97c7-b1c29672c791\">\n",
              "    <div class=\"colab-df-container\">\n",
              "      <div>\n",
              "<style scoped>\n",
              "    .dataframe tbody tr th:only-of-type {\n",
              "        vertical-align: middle;\n",
              "    }\n",
              "\n",
              "    .dataframe tbody tr th {\n",
              "        vertical-align: top;\n",
              "    }\n",
              "\n",
              "    .dataframe thead th {\n",
              "        text-align: right;\n",
              "    }\n",
              "</style>\n",
              "<table border=\"1\" class=\"dataframe\">\n",
              "  <thead>\n",
              "    <tr style=\"text-align: right;\">\n",
              "      <th></th>\n",
              "      <th>user_name</th>\n",
              "      <th>user_location</th>\n",
              "      <th>user_description</th>\n",
              "      <th>user_created</th>\n",
              "      <th>user_followers</th>\n",
              "      <th>user_friends</th>\n",
              "      <th>user_favourites</th>\n",
              "      <th>user_verified</th>\n",
              "      <th>date</th>\n",
              "      <th>hashtags</th>\n",
              "      <th>source</th>\n",
              "      <th>is_retweet</th>\n",
              "      <th>clean_text</th>\n",
              "      <th>Sentiment</th>\n",
              "    </tr>\n",
              "  </thead>\n",
              "  <tbody>\n",
              "    <tr>\n",
              "      <th>0</th>\n",
              "      <td>Romy 👑</td>\n",
              "      <td>Bolton - England</td>\n",
              "      <td>Tables turn, bridges burn, you live and learn.</td>\n",
              "      <td>2009-06-15 09:00:39</td>\n",
              "      <td>525</td>\n",
              "      <td>896</td>\n",
              "      <td>3854</td>\n",
              "      <td>False</td>\n",
              "      <td>2020-09-19 15:19:32</td>\n",
              "      <td>['TheSocialDilemma']</td>\n",
              "      <td>Twitter for Android</td>\n",
              "      <td>False</td>\n",
              "      <td>TheSocialDilemma is an eye opener isn t it ple...</td>\n",
              "      <td>Neutral</td>\n",
              "    </tr>\n",
              "    <tr>\n",
              "      <th>1</th>\n",
              "      <td>TLynn Peterson</td>\n",
              "      <td>Black Canyon City, Arizona</td>\n",
              "      <td>Acquired disability ♿ after an accident. Livin...</td>\n",
              "      <td>2013-05-29 00:17:46</td>\n",
              "      <td>5045</td>\n",
              "      <td>5374</td>\n",
              "      <td>48152</td>\n",
              "      <td>False</td>\n",
              "      <td>2020-09-13 00:31:46</td>\n",
              "      <td>['TheSocialDilemma']</td>\n",
              "      <td>Twitter for Android</td>\n",
              "      <td>False</td>\n",
              "      <td>TheSocialDilemma If we don t agree on what is ...</td>\n",
              "      <td>Positive</td>\n",
              "    </tr>\n",
              "    <tr>\n",
              "      <th>2</th>\n",
              "      <td>Rutger Kosters</td>\n",
              "      <td>Netherlands</td>\n",
              "      <td>Cloud Solution Architect @NetApp | VCDX #209 |...</td>\n",
              "      <td>2014-10-07 09:34:10</td>\n",
              "      <td>574</td>\n",
              "      <td>251</td>\n",
              "      <td>1070</td>\n",
              "      <td>False</td>\n",
              "      <td>2020-09-09 21:10:33</td>\n",
              "      <td>['TheSocialDilemma']</td>\n",
              "      <td>Twitter for Android</td>\n",
              "      <td>False</td>\n",
              "      <td>Watching TheSocialDilemma scary to see social ...</td>\n",
              "      <td>Negative</td>\n",
              "    </tr>\n",
              "    <tr>\n",
              "      <th>3</th>\n",
              "      <td>IDFWU🗯🇿🇼🇿🇦</td>\n",
              "      <td>East London, South Africa</td>\n",
              "      <td>YOU HAVE OPTIONS, YOU CAN’T JUST TAKE WHAT LIF...</td>\n",
              "      <td>2012-08-22 11:09:06</td>\n",
              "      <td>706</td>\n",
              "      <td>618</td>\n",
              "      <td>1320</td>\n",
              "      <td>False</td>\n",
              "      <td>2020-09-11 04:33:08</td>\n",
              "      <td>NaN</td>\n",
              "      <td>Twitter for Android</td>\n",
              "      <td>False</td>\n",
              "      <td>You check your social media before you pee in ...</td>\n",
              "      <td>Positive</td>\n",
              "    </tr>\n",
              "    <tr>\n",
              "      <th>4</th>\n",
              "      <td>Treebel</td>\n",
              "      <td>NaN</td>\n",
              "      <td>NaN</td>\n",
              "      <td>2010-09-25 07:25:31</td>\n",
              "      <td>9</td>\n",
              "      <td>13</td>\n",
              "      <td>55</td>\n",
              "      <td>False</td>\n",
              "      <td>2020-09-17 16:27:38</td>\n",
              "      <td>['thesocialdilemma']</td>\n",
              "      <td>Twitter for iPhone</td>\n",
              "      <td>False</td>\n",
              "      <td>watch thesocialdilemma and see what s actually...</td>\n",
              "      <td>Negative</td>\n",
              "    </tr>\n",
              "  </tbody>\n",
              "</table>\n",
              "</div>\n",
              "      <button class=\"colab-df-convert\" onclick=\"convertToInteractive('df-14829d36-fefb-46b9-97c7-b1c29672c791')\"\n",
              "              title=\"Convert this dataframe to an interactive table.\"\n",
              "              style=\"display:none;\">\n",
              "        \n",
              "  <svg xmlns=\"http://www.w3.org/2000/svg\" height=\"24px\"viewBox=\"0 0 24 24\"\n",
              "       width=\"24px\">\n",
              "    <path d=\"M0 0h24v24H0V0z\" fill=\"none\"/>\n",
              "    <path d=\"M18.56 5.44l.94 2.06.94-2.06 2.06-.94-2.06-.94-.94-2.06-.94 2.06-2.06.94zm-11 1L8.5 8.5l.94-2.06 2.06-.94-2.06-.94L8.5 2.5l-.94 2.06-2.06.94zm10 10l.94 2.06.94-2.06 2.06-.94-2.06-.94-.94-2.06-.94 2.06-2.06.94z\"/><path d=\"M17.41 7.96l-1.37-1.37c-.4-.4-.92-.59-1.43-.59-.52 0-1.04.2-1.43.59L10.3 9.45l-7.72 7.72c-.78.78-.78 2.05 0 2.83L4 21.41c.39.39.9.59 1.41.59.51 0 1.02-.2 1.41-.59l7.78-7.78 2.81-2.81c.8-.78.8-2.07 0-2.86zM5.41 20L4 18.59l7.72-7.72 1.47 1.35L5.41 20z\"/>\n",
              "  </svg>\n",
              "      </button>\n",
              "      \n",
              "  <style>\n",
              "    .colab-df-container {\n",
              "      display:flex;\n",
              "      flex-wrap:wrap;\n",
              "      gap: 12px;\n",
              "    }\n",
              "\n",
              "    .colab-df-convert {\n",
              "      background-color: #E8F0FE;\n",
              "      border: none;\n",
              "      border-radius: 50%;\n",
              "      cursor: pointer;\n",
              "      display: none;\n",
              "      fill: #1967D2;\n",
              "      height: 32px;\n",
              "      padding: 0 0 0 0;\n",
              "      width: 32px;\n",
              "    }\n",
              "\n",
              "    .colab-df-convert:hover {\n",
              "      background-color: #E2EBFA;\n",
              "      box-shadow: 0px 1px 2px rgba(60, 64, 67, 0.3), 0px 1px 3px 1px rgba(60, 64, 67, 0.15);\n",
              "      fill: #174EA6;\n",
              "    }\n",
              "\n",
              "    [theme=dark] .colab-df-convert {\n",
              "      background-color: #3B4455;\n",
              "      fill: #D2E3FC;\n",
              "    }\n",
              "\n",
              "    [theme=dark] .colab-df-convert:hover {\n",
              "      background-color: #434B5C;\n",
              "      box-shadow: 0px 1px 3px 1px rgba(0, 0, 0, 0.15);\n",
              "      filter: drop-shadow(0px 1px 2px rgba(0, 0, 0, 0.3));\n",
              "      fill: #FFFFFF;\n",
              "    }\n",
              "  </style>\n",
              "\n",
              "      <script>\n",
              "        const buttonEl =\n",
              "          document.querySelector('#df-14829d36-fefb-46b9-97c7-b1c29672c791 button.colab-df-convert');\n",
              "        buttonEl.style.display =\n",
              "          google.colab.kernel.accessAllowed ? 'block' : 'none';\n",
              "\n",
              "        async function convertToInteractive(key) {\n",
              "          const element = document.querySelector('#df-14829d36-fefb-46b9-97c7-b1c29672c791');\n",
              "          const dataTable =\n",
              "            await google.colab.kernel.invokeFunction('convertToInteractive',\n",
              "                                                     [key], {});\n",
              "          if (!dataTable) return;\n",
              "\n",
              "          const docLinkHtml = 'Like what you see? Visit the ' +\n",
              "            '<a target=\"_blank\" href=https://colab.research.google.com/notebooks/data_table.ipynb>data table notebook</a>'\n",
              "            + ' to learn more about interactive tables.';\n",
              "          element.innerHTML = '';\n",
              "          dataTable['output_type'] = 'display_data';\n",
              "          await google.colab.output.renderOutput(dataTable, element);\n",
              "          const docLink = document.createElement('div');\n",
              "          docLink.innerHTML = docLinkHtml;\n",
              "          element.appendChild(docLink);\n",
              "        }\n",
              "      </script>\n",
              "    </div>\n",
              "  </div>\n",
              "  "
            ],
            "text/plain": [
              "        user_name               user_location  \\\n",
              "0          Romy 👑            Bolton - England   \n",
              "1  TLynn Peterson  Black Canyon City, Arizona   \n",
              "2  Rutger Kosters                 Netherlands   \n",
              "3      IDFWU🗯🇿🇼🇿🇦   East London, South Africa   \n",
              "4         Treebel                         NaN   \n",
              "\n",
              "                                    user_description         user_created  \\\n",
              "0     Tables turn, bridges burn, you live and learn.  2009-06-15 09:00:39   \n",
              "1  Acquired disability ♿ after an accident. Livin...  2013-05-29 00:17:46   \n",
              "2  Cloud Solution Architect @NetApp | VCDX #209 |...  2014-10-07 09:34:10   \n",
              "3  YOU HAVE OPTIONS, YOU CAN’T JUST TAKE WHAT LIF...  2012-08-22 11:09:06   \n",
              "4                                                NaN  2010-09-25 07:25:31   \n",
              "\n",
              "   user_followers  user_friends  user_favourites  user_verified  \\\n",
              "0             525           896             3854          False   \n",
              "1            5045          5374            48152          False   \n",
              "2             574           251             1070          False   \n",
              "3             706           618             1320          False   \n",
              "4               9            13               55          False   \n",
              "\n",
              "                  date              hashtags               source  is_retweet  \\\n",
              "0  2020-09-19 15:19:32  ['TheSocialDilemma']  Twitter for Android       False   \n",
              "1  2020-09-13 00:31:46  ['TheSocialDilemma']  Twitter for Android       False   \n",
              "2  2020-09-09 21:10:33  ['TheSocialDilemma']  Twitter for Android       False   \n",
              "3  2020-09-11 04:33:08                   NaN  Twitter for Android       False   \n",
              "4  2020-09-17 16:27:38  ['thesocialdilemma']   Twitter for iPhone       False   \n",
              "\n",
              "                                          clean_text Sentiment  \n",
              "0  TheSocialDilemma is an eye opener isn t it ple...   Neutral  \n",
              "1  TheSocialDilemma If we don t agree on what is ...  Positive  \n",
              "2  Watching TheSocialDilemma scary to see social ...  Negative  \n",
              "3  You check your social media before you pee in ...  Positive  \n",
              "4  watch thesocialdilemma and see what s actually...  Negative  "
            ]
          },
          "metadata": {},
          "execution_count": 187
        }
      ]
    },
    {
      "cell_type": "code",
      "source": [
        "#Shape of the dataset\n",
        "df.shape"
      ],
      "metadata": {
        "colab": {
          "base_uri": "https://localhost:8080/"
        },
        "id": "gtIps9E57N2E",
        "outputId": "44282d64-9296-4f72-fad1-6ef9aae4b327"
      },
      "execution_count": 188,
      "outputs": [
        {
          "output_type": "execute_result",
          "data": {
            "text/plain": [
              "(17000, 14)"
            ]
          },
          "metadata": {},
          "execution_count": 188
        }
      ]
    },
    {
      "cell_type": "code",
      "source": [
        "df.info()"
      ],
      "metadata": {
        "colab": {
          "base_uri": "https://localhost:8080/"
        },
        "id": "0jrDoIcg7ZuD",
        "outputId": "9db3f678-ef6c-487a-85a0-e9112dafdefb"
      },
      "execution_count": 189,
      "outputs": [
        {
          "output_type": "stream",
          "name": "stdout",
          "text": [
            "<class 'pandas.core.frame.DataFrame'>\n",
            "RangeIndex: 17000 entries, 0 to 16999\n",
            "Data columns (total 14 columns):\n",
            " #   Column            Non-Null Count  Dtype \n",
            "---  ------            --------------  ----- \n",
            " 0   user_name         16999 non-null  object\n",
            " 1   user_location     13393 non-null  object\n",
            " 2   user_description  15838 non-null  object\n",
            " 3   user_created      17000 non-null  object\n",
            " 4   user_followers    17000 non-null  int64 \n",
            " 5   user_friends      17000 non-null  int64 \n",
            " 6   user_favourites   17000 non-null  int64 \n",
            " 7   user_verified     17000 non-null  bool  \n",
            " 8   date              17000 non-null  object\n",
            " 9   hashtags          13351 non-null  object\n",
            " 10  source            17000 non-null  object\n",
            " 11  is_retweet        17000 non-null  bool  \n",
            " 12  clean_text        16992 non-null  object\n",
            " 13  Sentiment         17000 non-null  object\n",
            "dtypes: bool(2), int64(3), object(9)\n",
            "memory usage: 1.6+ MB\n"
          ]
        }
      ]
    },
    {
      "cell_type": "markdown",
      "source": [
        "**STEP3 - DATA PREPROCESSING**"
      ],
      "metadata": {
        "id": "8Oo8livcoLlC"
      }
    },
    {
      "cell_type": "code",
      "source": [
        "data = df[[\"clean_text\", \"Sentiment\"]]\n",
        "data.head()"
      ],
      "metadata": {
        "colab": {
          "base_uri": "https://localhost:8080/",
          "height": 206
        },
        "id": "T4fJWlOw8TFZ",
        "outputId": "fba00804-40fc-4860-a15a-6b602f9848df"
      },
      "execution_count": 190,
      "outputs": [
        {
          "output_type": "execute_result",
          "data": {
            "text/html": [
              "\n",
              "  <div id=\"df-6c3b84e7-8e2b-4d4d-be3e-d5a632297c37\">\n",
              "    <div class=\"colab-df-container\">\n",
              "      <div>\n",
              "<style scoped>\n",
              "    .dataframe tbody tr th:only-of-type {\n",
              "        vertical-align: middle;\n",
              "    }\n",
              "\n",
              "    .dataframe tbody tr th {\n",
              "        vertical-align: top;\n",
              "    }\n",
              "\n",
              "    .dataframe thead th {\n",
              "        text-align: right;\n",
              "    }\n",
              "</style>\n",
              "<table border=\"1\" class=\"dataframe\">\n",
              "  <thead>\n",
              "    <tr style=\"text-align: right;\">\n",
              "      <th></th>\n",
              "      <th>clean_text</th>\n",
              "      <th>Sentiment</th>\n",
              "    </tr>\n",
              "  </thead>\n",
              "  <tbody>\n",
              "    <tr>\n",
              "      <th>0</th>\n",
              "      <td>TheSocialDilemma is an eye opener isn t it ple...</td>\n",
              "      <td>Neutral</td>\n",
              "    </tr>\n",
              "    <tr>\n",
              "      <th>1</th>\n",
              "      <td>TheSocialDilemma If we don t agree on what is ...</td>\n",
              "      <td>Positive</td>\n",
              "    </tr>\n",
              "    <tr>\n",
              "      <th>2</th>\n",
              "      <td>Watching TheSocialDilemma scary to see social ...</td>\n",
              "      <td>Negative</td>\n",
              "    </tr>\n",
              "    <tr>\n",
              "      <th>3</th>\n",
              "      <td>You check your social media before you pee in ...</td>\n",
              "      <td>Positive</td>\n",
              "    </tr>\n",
              "    <tr>\n",
              "      <th>4</th>\n",
              "      <td>watch thesocialdilemma and see what s actually...</td>\n",
              "      <td>Negative</td>\n",
              "    </tr>\n",
              "  </tbody>\n",
              "</table>\n",
              "</div>\n",
              "      <button class=\"colab-df-convert\" onclick=\"convertToInteractive('df-6c3b84e7-8e2b-4d4d-be3e-d5a632297c37')\"\n",
              "              title=\"Convert this dataframe to an interactive table.\"\n",
              "              style=\"display:none;\">\n",
              "        \n",
              "  <svg xmlns=\"http://www.w3.org/2000/svg\" height=\"24px\"viewBox=\"0 0 24 24\"\n",
              "       width=\"24px\">\n",
              "    <path d=\"M0 0h24v24H0V0z\" fill=\"none\"/>\n",
              "    <path d=\"M18.56 5.44l.94 2.06.94-2.06 2.06-.94-2.06-.94-.94-2.06-.94 2.06-2.06.94zm-11 1L8.5 8.5l.94-2.06 2.06-.94-2.06-.94L8.5 2.5l-.94 2.06-2.06.94zm10 10l.94 2.06.94-2.06 2.06-.94-2.06-.94-.94-2.06-.94 2.06-2.06.94z\"/><path d=\"M17.41 7.96l-1.37-1.37c-.4-.4-.92-.59-1.43-.59-.52 0-1.04.2-1.43.59L10.3 9.45l-7.72 7.72c-.78.78-.78 2.05 0 2.83L4 21.41c.39.39.9.59 1.41.59.51 0 1.02-.2 1.41-.59l7.78-7.78 2.81-2.81c.8-.78.8-2.07 0-2.86zM5.41 20L4 18.59l7.72-7.72 1.47 1.35L5.41 20z\"/>\n",
              "  </svg>\n",
              "      </button>\n",
              "      \n",
              "  <style>\n",
              "    .colab-df-container {\n",
              "      display:flex;\n",
              "      flex-wrap:wrap;\n",
              "      gap: 12px;\n",
              "    }\n",
              "\n",
              "    .colab-df-convert {\n",
              "      background-color: #E8F0FE;\n",
              "      border: none;\n",
              "      border-radius: 50%;\n",
              "      cursor: pointer;\n",
              "      display: none;\n",
              "      fill: #1967D2;\n",
              "      height: 32px;\n",
              "      padding: 0 0 0 0;\n",
              "      width: 32px;\n",
              "    }\n",
              "\n",
              "    .colab-df-convert:hover {\n",
              "      background-color: #E2EBFA;\n",
              "      box-shadow: 0px 1px 2px rgba(60, 64, 67, 0.3), 0px 1px 3px 1px rgba(60, 64, 67, 0.15);\n",
              "      fill: #174EA6;\n",
              "    }\n",
              "\n",
              "    [theme=dark] .colab-df-convert {\n",
              "      background-color: #3B4455;\n",
              "      fill: #D2E3FC;\n",
              "    }\n",
              "\n",
              "    [theme=dark] .colab-df-convert:hover {\n",
              "      background-color: #434B5C;\n",
              "      box-shadow: 0px 1px 3px 1px rgba(0, 0, 0, 0.15);\n",
              "      filter: drop-shadow(0px 1px 2px rgba(0, 0, 0, 0.3));\n",
              "      fill: #FFFFFF;\n",
              "    }\n",
              "  </style>\n",
              "\n",
              "      <script>\n",
              "        const buttonEl =\n",
              "          document.querySelector('#df-6c3b84e7-8e2b-4d4d-be3e-d5a632297c37 button.colab-df-convert');\n",
              "        buttonEl.style.display =\n",
              "          google.colab.kernel.accessAllowed ? 'block' : 'none';\n",
              "\n",
              "        async function convertToInteractive(key) {\n",
              "          const element = document.querySelector('#df-6c3b84e7-8e2b-4d4d-be3e-d5a632297c37');\n",
              "          const dataTable =\n",
              "            await google.colab.kernel.invokeFunction('convertToInteractive',\n",
              "                                                     [key], {});\n",
              "          if (!dataTable) return;\n",
              "\n",
              "          const docLinkHtml = 'Like what you see? Visit the ' +\n",
              "            '<a target=\"_blank\" href=https://colab.research.google.com/notebooks/data_table.ipynb>data table notebook</a>'\n",
              "            + ' to learn more about interactive tables.';\n",
              "          element.innerHTML = '';\n",
              "          dataTable['output_type'] = 'display_data';\n",
              "          await google.colab.output.renderOutput(dataTable, element);\n",
              "          const docLink = document.createElement('div');\n",
              "          docLink.innerHTML = docLinkHtml;\n",
              "          element.appendChild(docLink);\n",
              "        }\n",
              "      </script>\n",
              "    </div>\n",
              "  </div>\n",
              "  "
            ],
            "text/plain": [
              "                                          clean_text Sentiment\n",
              "0  TheSocialDilemma is an eye opener isn t it ple...   Neutral\n",
              "1  TheSocialDilemma If we don t agree on what is ...  Positive\n",
              "2  Watching TheSocialDilemma scary to see social ...  Negative\n",
              "3  You check your social media before you pee in ...  Positive\n",
              "4  watch thesocialdilemma and see what s actually...  Negative"
            ]
          },
          "metadata": {},
          "execution_count": 190
        }
      ]
    },
    {
      "cell_type": "code",
      "source": [
        "data.shape"
      ],
      "metadata": {
        "colab": {
          "base_uri": "https://localhost:8080/"
        },
        "id": "Apj05eB6ico9",
        "outputId": "cd5cad0e-dfae-4d83-b494-6d47dfb2defc"
      },
      "execution_count": 191,
      "outputs": [
        {
          "output_type": "execute_result",
          "data": {
            "text/plain": [
              "(17000, 2)"
            ]
          },
          "metadata": {},
          "execution_count": 191
        }
      ]
    },
    {
      "cell_type": "code",
      "source": [
        "#Checking for null values\n",
        "data.isna().sum()"
      ],
      "metadata": {
        "colab": {
          "base_uri": "https://localhost:8080/"
        },
        "id": "lc_rtwOJiih5",
        "outputId": "55fe8275-5769-42d9-acdc-734286ef9fcc"
      },
      "execution_count": 192,
      "outputs": [
        {
          "output_type": "execute_result",
          "data": {
            "text/plain": [
              "clean_text    8\n",
              "Sentiment     0\n",
              "dtype: int64"
            ]
          },
          "metadata": {},
          "execution_count": 192
        }
      ]
    },
    {
      "cell_type": "code",
      "source": [
        "#Drop the null values\n",
        "data = data.dropna()\n",
        "data.shape"
      ],
      "metadata": {
        "colab": {
          "base_uri": "https://localhost:8080/"
        },
        "id": "SxZ7pf_cinKx",
        "outputId": "bef94173-8371-4eb5-ad4e-e55c6ac957e5"
      },
      "execution_count": 193,
      "outputs": [
        {
          "output_type": "execute_result",
          "data": {
            "text/plain": [
              "(16992, 2)"
            ]
          },
          "metadata": {},
          "execution_count": 193
        }
      ]
    },
    {
      "cell_type": "code",
      "source": [
        "#Taking a sample tweet and checking the label assigned to that sample\n",
        "print(\"Tweet :\",data[\"clean_text\"][12])\n",
        "print(\"Sentiment :\",data[\"Sentiment\"][12])"
      ],
      "metadata": {
        "colab": {
          "base_uri": "https://localhost:8080/"
        },
        "id": "w_GJPcxQitcy",
        "outputId": "6a663d8d-d81b-42e3-83f9-8596acf64cf6"
      },
      "execution_count": 194,
      "outputs": [
        {
          "output_type": "stream",
          "name": "stdout",
          "text": [
            "Tweet : I recommend everyone go watch TheSocialDilemma on Netflix It s an eye opener\n",
            "Sentiment : Neutral\n"
          ]
        }
      ]
    },
    {
      "cell_type": "code",
      "source": [
        "#Label encoding\n",
        "labels = {\"Negative\":0,\"Positive\":1,\"Neutral\":2}\n",
        "data[\"Target\"] = data[\"Sentiment\"].map(labels)\n",
        "data.head()"
      ],
      "metadata": {
        "colab": {
          "base_uri": "https://localhost:8080/",
          "height": 206
        },
        "id": "JjB--WgQi7tG",
        "outputId": "4ce2b415-e5e1-40a8-ad09-8675acd35d84"
      },
      "execution_count": 195,
      "outputs": [
        {
          "output_type": "execute_result",
          "data": {
            "text/html": [
              "\n",
              "  <div id=\"df-a7e335d6-2553-49ed-9c1e-edd7c86544f1\">\n",
              "    <div class=\"colab-df-container\">\n",
              "      <div>\n",
              "<style scoped>\n",
              "    .dataframe tbody tr th:only-of-type {\n",
              "        vertical-align: middle;\n",
              "    }\n",
              "\n",
              "    .dataframe tbody tr th {\n",
              "        vertical-align: top;\n",
              "    }\n",
              "\n",
              "    .dataframe thead th {\n",
              "        text-align: right;\n",
              "    }\n",
              "</style>\n",
              "<table border=\"1\" class=\"dataframe\">\n",
              "  <thead>\n",
              "    <tr style=\"text-align: right;\">\n",
              "      <th></th>\n",
              "      <th>clean_text</th>\n",
              "      <th>Sentiment</th>\n",
              "      <th>Target</th>\n",
              "    </tr>\n",
              "  </thead>\n",
              "  <tbody>\n",
              "    <tr>\n",
              "      <th>0</th>\n",
              "      <td>TheSocialDilemma is an eye opener isn t it ple...</td>\n",
              "      <td>Neutral</td>\n",
              "      <td>2</td>\n",
              "    </tr>\n",
              "    <tr>\n",
              "      <th>1</th>\n",
              "      <td>TheSocialDilemma If we don t agree on what is ...</td>\n",
              "      <td>Positive</td>\n",
              "      <td>1</td>\n",
              "    </tr>\n",
              "    <tr>\n",
              "      <th>2</th>\n",
              "      <td>Watching TheSocialDilemma scary to see social ...</td>\n",
              "      <td>Negative</td>\n",
              "      <td>0</td>\n",
              "    </tr>\n",
              "    <tr>\n",
              "      <th>3</th>\n",
              "      <td>You check your social media before you pee in ...</td>\n",
              "      <td>Positive</td>\n",
              "      <td>1</td>\n",
              "    </tr>\n",
              "    <tr>\n",
              "      <th>4</th>\n",
              "      <td>watch thesocialdilemma and see what s actually...</td>\n",
              "      <td>Negative</td>\n",
              "      <td>0</td>\n",
              "    </tr>\n",
              "  </tbody>\n",
              "</table>\n",
              "</div>\n",
              "      <button class=\"colab-df-convert\" onclick=\"convertToInteractive('df-a7e335d6-2553-49ed-9c1e-edd7c86544f1')\"\n",
              "              title=\"Convert this dataframe to an interactive table.\"\n",
              "              style=\"display:none;\">\n",
              "        \n",
              "  <svg xmlns=\"http://www.w3.org/2000/svg\" height=\"24px\"viewBox=\"0 0 24 24\"\n",
              "       width=\"24px\">\n",
              "    <path d=\"M0 0h24v24H0V0z\" fill=\"none\"/>\n",
              "    <path d=\"M18.56 5.44l.94 2.06.94-2.06 2.06-.94-2.06-.94-.94-2.06-.94 2.06-2.06.94zm-11 1L8.5 8.5l.94-2.06 2.06-.94-2.06-.94L8.5 2.5l-.94 2.06-2.06.94zm10 10l.94 2.06.94-2.06 2.06-.94-2.06-.94-.94-2.06-.94 2.06-2.06.94z\"/><path d=\"M17.41 7.96l-1.37-1.37c-.4-.4-.92-.59-1.43-.59-.52 0-1.04.2-1.43.59L10.3 9.45l-7.72 7.72c-.78.78-.78 2.05 0 2.83L4 21.41c.39.39.9.59 1.41.59.51 0 1.02-.2 1.41-.59l7.78-7.78 2.81-2.81c.8-.78.8-2.07 0-2.86zM5.41 20L4 18.59l7.72-7.72 1.47 1.35L5.41 20z\"/>\n",
              "  </svg>\n",
              "      </button>\n",
              "      \n",
              "  <style>\n",
              "    .colab-df-container {\n",
              "      display:flex;\n",
              "      flex-wrap:wrap;\n",
              "      gap: 12px;\n",
              "    }\n",
              "\n",
              "    .colab-df-convert {\n",
              "      background-color: #E8F0FE;\n",
              "      border: none;\n",
              "      border-radius: 50%;\n",
              "      cursor: pointer;\n",
              "      display: none;\n",
              "      fill: #1967D2;\n",
              "      height: 32px;\n",
              "      padding: 0 0 0 0;\n",
              "      width: 32px;\n",
              "    }\n",
              "\n",
              "    .colab-df-convert:hover {\n",
              "      background-color: #E2EBFA;\n",
              "      box-shadow: 0px 1px 2px rgba(60, 64, 67, 0.3), 0px 1px 3px 1px rgba(60, 64, 67, 0.15);\n",
              "      fill: #174EA6;\n",
              "    }\n",
              "\n",
              "    [theme=dark] .colab-df-convert {\n",
              "      background-color: #3B4455;\n",
              "      fill: #D2E3FC;\n",
              "    }\n",
              "\n",
              "    [theme=dark] .colab-df-convert:hover {\n",
              "      background-color: #434B5C;\n",
              "      box-shadow: 0px 1px 3px 1px rgba(0, 0, 0, 0.15);\n",
              "      filter: drop-shadow(0px 1px 2px rgba(0, 0, 0, 0.3));\n",
              "      fill: #FFFFFF;\n",
              "    }\n",
              "  </style>\n",
              "\n",
              "      <script>\n",
              "        const buttonEl =\n",
              "          document.querySelector('#df-a7e335d6-2553-49ed-9c1e-edd7c86544f1 button.colab-df-convert');\n",
              "        buttonEl.style.display =\n",
              "          google.colab.kernel.accessAllowed ? 'block' : 'none';\n",
              "\n",
              "        async function convertToInteractive(key) {\n",
              "          const element = document.querySelector('#df-a7e335d6-2553-49ed-9c1e-edd7c86544f1');\n",
              "          const dataTable =\n",
              "            await google.colab.kernel.invokeFunction('convertToInteractive',\n",
              "                                                     [key], {});\n",
              "          if (!dataTable) return;\n",
              "\n",
              "          const docLinkHtml = 'Like what you see? Visit the ' +\n",
              "            '<a target=\"_blank\" href=https://colab.research.google.com/notebooks/data_table.ipynb>data table notebook</a>'\n",
              "            + ' to learn more about interactive tables.';\n",
              "          element.innerHTML = '';\n",
              "          dataTable['output_type'] = 'display_data';\n",
              "          await google.colab.output.renderOutput(dataTable, element);\n",
              "          const docLink = document.createElement('div');\n",
              "          docLink.innerHTML = docLinkHtml;\n",
              "          element.appendChild(docLink);\n",
              "        }\n",
              "      </script>\n",
              "    </div>\n",
              "  </div>\n",
              "  "
            ],
            "text/plain": [
              "                                          clean_text Sentiment  Target\n",
              "0  TheSocialDilemma is an eye opener isn t it ple...   Neutral       2\n",
              "1  TheSocialDilemma If we don t agree on what is ...  Positive       1\n",
              "2  Watching TheSocialDilemma scary to see social ...  Negative       0\n",
              "3  You check your social media before you pee in ...  Positive       1\n",
              "4  watch thesocialdilemma and see what s actually...  Negative       0"
            ]
          },
          "metadata": {},
          "execution_count": 195
        }
      ]
    },
    {
      "cell_type": "code",
      "source": [
        "#Creating a new dataset with 2 columns\n",
        "df_train = data[[\"clean_text\", \"Target\"]]\n",
        "df_train.head()"
      ],
      "metadata": {
        "colab": {
          "base_uri": "https://localhost:8080/",
          "height": 206
        },
        "id": "6lxOujFZkQle",
        "outputId": "f2300ab4-0a2a-4ec6-a964-b91c2febbe45"
      },
      "execution_count": 196,
      "outputs": [
        {
          "output_type": "execute_result",
          "data": {
            "text/html": [
              "\n",
              "  <div id=\"df-58589f0c-662b-4e4f-bef7-717fb6eba98b\">\n",
              "    <div class=\"colab-df-container\">\n",
              "      <div>\n",
              "<style scoped>\n",
              "    .dataframe tbody tr th:only-of-type {\n",
              "        vertical-align: middle;\n",
              "    }\n",
              "\n",
              "    .dataframe tbody tr th {\n",
              "        vertical-align: top;\n",
              "    }\n",
              "\n",
              "    .dataframe thead th {\n",
              "        text-align: right;\n",
              "    }\n",
              "</style>\n",
              "<table border=\"1\" class=\"dataframe\">\n",
              "  <thead>\n",
              "    <tr style=\"text-align: right;\">\n",
              "      <th></th>\n",
              "      <th>clean_text</th>\n",
              "      <th>Target</th>\n",
              "    </tr>\n",
              "  </thead>\n",
              "  <tbody>\n",
              "    <tr>\n",
              "      <th>0</th>\n",
              "      <td>TheSocialDilemma is an eye opener isn t it ple...</td>\n",
              "      <td>2</td>\n",
              "    </tr>\n",
              "    <tr>\n",
              "      <th>1</th>\n",
              "      <td>TheSocialDilemma If we don t agree on what is ...</td>\n",
              "      <td>1</td>\n",
              "    </tr>\n",
              "    <tr>\n",
              "      <th>2</th>\n",
              "      <td>Watching TheSocialDilemma scary to see social ...</td>\n",
              "      <td>0</td>\n",
              "    </tr>\n",
              "    <tr>\n",
              "      <th>3</th>\n",
              "      <td>You check your social media before you pee in ...</td>\n",
              "      <td>1</td>\n",
              "    </tr>\n",
              "    <tr>\n",
              "      <th>4</th>\n",
              "      <td>watch thesocialdilemma and see what s actually...</td>\n",
              "      <td>0</td>\n",
              "    </tr>\n",
              "  </tbody>\n",
              "</table>\n",
              "</div>\n",
              "      <button class=\"colab-df-convert\" onclick=\"convertToInteractive('df-58589f0c-662b-4e4f-bef7-717fb6eba98b')\"\n",
              "              title=\"Convert this dataframe to an interactive table.\"\n",
              "              style=\"display:none;\">\n",
              "        \n",
              "  <svg xmlns=\"http://www.w3.org/2000/svg\" height=\"24px\"viewBox=\"0 0 24 24\"\n",
              "       width=\"24px\">\n",
              "    <path d=\"M0 0h24v24H0V0z\" fill=\"none\"/>\n",
              "    <path d=\"M18.56 5.44l.94 2.06.94-2.06 2.06-.94-2.06-.94-.94-2.06-.94 2.06-2.06.94zm-11 1L8.5 8.5l.94-2.06 2.06-.94-2.06-.94L8.5 2.5l-.94 2.06-2.06.94zm10 10l.94 2.06.94-2.06 2.06-.94-2.06-.94-.94-2.06-.94 2.06-2.06.94z\"/><path d=\"M17.41 7.96l-1.37-1.37c-.4-.4-.92-.59-1.43-.59-.52 0-1.04.2-1.43.59L10.3 9.45l-7.72 7.72c-.78.78-.78 2.05 0 2.83L4 21.41c.39.39.9.59 1.41.59.51 0 1.02-.2 1.41-.59l7.78-7.78 2.81-2.81c.8-.78.8-2.07 0-2.86zM5.41 20L4 18.59l7.72-7.72 1.47 1.35L5.41 20z\"/>\n",
              "  </svg>\n",
              "      </button>\n",
              "      \n",
              "  <style>\n",
              "    .colab-df-container {\n",
              "      display:flex;\n",
              "      flex-wrap:wrap;\n",
              "      gap: 12px;\n",
              "    }\n",
              "\n",
              "    .colab-df-convert {\n",
              "      background-color: #E8F0FE;\n",
              "      border: none;\n",
              "      border-radius: 50%;\n",
              "      cursor: pointer;\n",
              "      display: none;\n",
              "      fill: #1967D2;\n",
              "      height: 32px;\n",
              "      padding: 0 0 0 0;\n",
              "      width: 32px;\n",
              "    }\n",
              "\n",
              "    .colab-df-convert:hover {\n",
              "      background-color: #E2EBFA;\n",
              "      box-shadow: 0px 1px 2px rgba(60, 64, 67, 0.3), 0px 1px 3px 1px rgba(60, 64, 67, 0.15);\n",
              "      fill: #174EA6;\n",
              "    }\n",
              "\n",
              "    [theme=dark] .colab-df-convert {\n",
              "      background-color: #3B4455;\n",
              "      fill: #D2E3FC;\n",
              "    }\n",
              "\n",
              "    [theme=dark] .colab-df-convert:hover {\n",
              "      background-color: #434B5C;\n",
              "      box-shadow: 0px 1px 3px 1px rgba(0, 0, 0, 0.15);\n",
              "      filter: drop-shadow(0px 1px 2px rgba(0, 0, 0, 0.3));\n",
              "      fill: #FFFFFF;\n",
              "    }\n",
              "  </style>\n",
              "\n",
              "      <script>\n",
              "        const buttonEl =\n",
              "          document.querySelector('#df-58589f0c-662b-4e4f-bef7-717fb6eba98b button.colab-df-convert');\n",
              "        buttonEl.style.display =\n",
              "          google.colab.kernel.accessAllowed ? 'block' : 'none';\n",
              "\n",
              "        async function convertToInteractive(key) {\n",
              "          const element = document.querySelector('#df-58589f0c-662b-4e4f-bef7-717fb6eba98b');\n",
              "          const dataTable =\n",
              "            await google.colab.kernel.invokeFunction('convertToInteractive',\n",
              "                                                     [key], {});\n",
              "          if (!dataTable) return;\n",
              "\n",
              "          const docLinkHtml = 'Like what you see? Visit the ' +\n",
              "            '<a target=\"_blank\" href=https://colab.research.google.com/notebooks/data_table.ipynb>data table notebook</a>'\n",
              "            + ' to learn more about interactive tables.';\n",
              "          element.innerHTML = '';\n",
              "          dataTable['output_type'] = 'display_data';\n",
              "          await google.colab.output.renderOutput(dataTable, element);\n",
              "          const docLink = document.createElement('div');\n",
              "          docLink.innerHTML = docLinkHtml;\n",
              "          element.appendChild(docLink);\n",
              "        }\n",
              "      </script>\n",
              "    </div>\n",
              "  </div>\n",
              "  "
            ],
            "text/plain": [
              "                                          clean_text  Target\n",
              "0  TheSocialDilemma is an eye opener isn t it ple...       2\n",
              "1  TheSocialDilemma If we don t agree on what is ...       1\n",
              "2  Watching TheSocialDilemma scary to see social ...       0\n",
              "3  You check your social media before you pee in ...       1\n",
              "4  watch thesocialdilemma and see what s actually...       0"
            ]
          },
          "metadata": {},
          "execution_count": 196
        }
      ]
    },
    {
      "cell_type": "code",
      "source": [
        "#Checking the shape\n",
        "df_train.shape"
      ],
      "metadata": {
        "colab": {
          "base_uri": "https://localhost:8080/"
        },
        "id": "QyGrXXsCUi9o",
        "outputId": "90ec2932-e5d9-45b3-fe27-3f3c0c9336bd"
      },
      "execution_count": 197,
      "outputs": [
        {
          "output_type": "execute_result",
          "data": {
            "text/plain": [
              "(16992, 2)"
            ]
          },
          "metadata": {},
          "execution_count": 197
        }
      ]
    },
    {
      "cell_type": "code",
      "source": [
        "#Splitting the data into train and test for predictions\n",
        "df_training = df_train.iloc[:13000]\n",
        "df_testing = df_train.iloc[13000:]"
      ],
      "metadata": {
        "id": "6OAWAtwdSyM2"
      },
      "execution_count": 198,
      "outputs": []
    },
    {
      "cell_type": "code",
      "source": [
        "#Checking shape of the training and testing data\n",
        "print(df_training.shape)\n",
        "print(df_testing.shape)"
      ],
      "metadata": {
        "colab": {
          "base_uri": "https://localhost:8080/"
        },
        "id": "AXQMTW8TT0d4",
        "outputId": "abf39c61-5d7e-40dc-b921-c7e6f70bf7e5"
      },
      "execution_count": 199,
      "outputs": [
        {
          "output_type": "stream",
          "name": "stdout",
          "text": [
            "(13000, 2)\n",
            "(3992, 2)\n"
          ]
        }
      ]
    },
    {
      "cell_type": "markdown",
      "source": [
        "**STEP4 - DATA VISUALIZATION**"
      ],
      "metadata": {
        "id": "8gnKiM73pjGP"
      }
    },
    {
      "cell_type": "code",
      "source": [
        "#There are no null values available in the dataset\n",
        "plt.figure(figsize=(7,7))\n",
        "sns.heatmap(data=df_training.isna(), cbar=False)\n",
        "plt.show()"
      ],
      "metadata": {
        "colab": {
          "base_uri": "https://localhost:8080/",
          "height": 434
        },
        "id": "RD3lcCmylm9x",
        "outputId": "686d82d1-320b-420d-dfa7-4881977c91e0"
      },
      "execution_count": 200,
      "outputs": [
        {
          "output_type": "display_data",
          "data": {
            "image/png": "[encoded data removed]",
            "text/plain": [
              "<Figure size 504x504 with 1 Axes>"
            ]
          },
          "metadata": {}
        }
      ]
    },
    {
      "cell_type": "code",
      "source": [
        "#Checking for the distribution of the sentiments\n",
        "plt.figure(figsize=(7,5))\n",
        "sns.countplot(df_training[\"Target\"])\n",
        "plt.xticks([0,1,2],[\"Negative\", \"Positive\", \"Neutral\"], fontsize=12)\n",
        "plt.xlabel(\"Sentiments(Target)\", fontweight=\"bold\", fontsize=15, color=\"y\")\n",
        "plt.ylabel(\"Count\",fontweight=\"bold\", fontsize=15, color=\"y\")\n",
        "plt.title(\"Distribution of Sentiments\", fontsize=18, color=\"r\")\n",
        "plt.show()\n",
        "\n",
        "#Calculating the percentage of the 3 categories\n",
        "Negative = round(df_training[\"Target\"].value_counts()[0]/len(df_training) * 100, 2)\n",
        "Positive = round(df_training[\"Target\"].value_counts()[1]/len(df_training) * 100, 2)\n",
        "Neutral  = round(df_training[\"Target\"].value_counts()[2]/len(df_training) * 100, 2)\n",
        "\n",
        "#Print the percentages \n",
        "print(\"Negative % =\", Negative)\n",
        "print(\"Positive % =\", Positive)\n",
        "print(\"Neutral % =\", Neutral)"
      ],
      "metadata": {
        "colab": {
          "base_uri": "https://localhost:8080/",
          "height": 474
        },
        "id": "5bUtCP7Mluz3",
        "outputId": "b33594f1-8b9e-442f-c8ec-36c584e55519"
      },
      "execution_count": 201,
      "outputs": [
        {
          "output_type": "stream",
          "name": "stderr",
          "text": [
            "/usr/local/lib/python3.7/dist-packages/seaborn/_decorators.py:43: FutureWarning: Pass the following variable as a keyword arg: x. From version 0.12, the only valid positional argument will be `data`, and passing other arguments without an explicit keyword will result in an error or misinterpretation.\n",
            "  FutureWarning\n"
          ]
        },
        {
          "output_type": "display_data",
          "data": {
            "image/png": "[encoded data removed]",
            "text/plain": [
              "<Figure size 504x360 with 1 Axes>"
            ]
          },
          "metadata": {}
        },
        {
          "output_type": "stream",
          "name": "stdout",
          "text": [
            "Negative % = 18.03\n",
            "Positive % = 47.13\n",
            "Neutral % = 34.84\n"
          ]
        }
      ]
    },
    {
      "cell_type": "code",
      "source": [
        "#Converting the train dataset into tensorflow dataset format for faster execution:\n",
        "\n",
        "dataset = (tf.data.Dataset.from_tensor_slices(\n",
        "    (\n",
        "        tf.cast(df_training[\"clean_text\"].values, tf.string),\n",
        "        tf.cast(df_training[\"Target\"].values, tf.int32)\n",
        "    )\n",
        "                                             )\n",
        "          )\n",
        "print(dataset)"
      ],
      "metadata": {
        "colab": {
          "base_uri": "https://localhost:8080/"
        },
        "id": "8XAJEQ43qlT7",
        "outputId": "3122df34-a14c-403f-8477-688a91865257"
      },
      "execution_count": 202,
      "outputs": [
        {
          "output_type": "stream",
          "name": "stdout",
          "text": [
            "<TensorSliceDataset shapes: ((), ()), types: (tf.string, tf.int32)>\n"
          ]
        }
      ]
    },
    {
      "cell_type": "code",
      "source": [
        "# print first five record from train dataset\n",
        "for example, sentiment in dataset.take(5):\n",
        "    print(\"--\"*75)\n",
        "    print(\"example : \", example.numpy())\n",
        "    print()\n",
        "    print(\"sentiment: \", sentiment.numpy())"
      ],
      "metadata": {
        "colab": {
          "base_uri": "https://localhost:8080/"
        },
        "id": "G8ZPnI0AtG7W",
        "outputId": "b279f8d6-b20b-4e3e-a748-fcb29c214a39"
      },
      "execution_count": 203,
      "outputs": [
        {
          "output_type": "stream",
          "name": "stdout",
          "text": [
            "------------------------------------------------------------------------------------------------------------------------------------------------------\n",
            "example :  b'TheSocialDilemma is an eye opener isn t it please ignore the irony of me tweeting about it'\n",
            "\n",
            "sentiment:  2\n",
            "------------------------------------------------------------------------------------------------------------------------------------------------------\n",
            "example :  b'TheSocialDilemma If we don t agree on what is true or that there is such a thing as truth we re toast This is'\n",
            "\n",
            "sentiment:  1\n",
            "------------------------------------------------------------------------------------------------------------------------------------------------------\n",
            "example :  b'Watching TheSocialDilemma scary to see social media is fucking up the mental health of Gen X'\n",
            "\n",
            "sentiment:  0\n",
            "------------------------------------------------------------------------------------------------------------------------------------------------------\n",
            "example :  b'You check your social media before you pee in the morning or whilst you are peeing Those are only 2 choices you ha'\n",
            "\n",
            "sentiment:  1\n",
            "------------------------------------------------------------------------------------------------------------------------------------------------------\n",
            "example :  b'watch thesocialdilemma and see what s actually going on And share it s scary but 100 true'\n",
            "\n",
            "sentiment:  0\n"
          ]
        }
      ]
    },
    {
      "cell_type": "code",
      "source": [
        "buffer_size = 10000\n",
        "batch_size = 64\n",
        "\n",
        "# create batches of the dataset\n",
        "\n",
        "dataset = dataset.shuffle(buffer_size).batch(batch_size).prefetch(tf.data.AUTOTUNE)\n",
        "\n",
        "# now every batch will have 64 samples"
      ],
      "metadata": {
        "id": "V1fi00lUvX9E"
      },
      "execution_count": 204,
      "outputs": []
    },
    {
      "cell_type": "code",
      "source": [
        "# print first batch from train dataset\n",
        "\n",
        "for example, sentiment in dataset.take(1):\n",
        "    print(\"Example : \", example.numpy())\n",
        "    print(\"-----------------------\")\n",
        "    print(\"Sentiment: \", sentiment.numpy())\n",
        "    print(\"-----------------------\")\n",
        "    print(\"Total Length: \", len(sentiment.numpy()))"
      ],
      "metadata": {
        "colab": {
          "base_uri": "https://localhost:8080/"
        },
        "id": "OAVtp_rg0biS",
        "outputId": "290b4784-b020-4df9-c780-2bd19d6411e5"
      },
      "execution_count": 205,
      "outputs": [
        {
          "output_type": "stream",
          "name": "stdout",
          "text": [
            "Example :  [b'Has anyone watched The Social Dilemma Thoughts Literally tempted to write a blog post about this TheSocialDilemma'\n",
            " b'TheSocialDilemma has to be the scariest movie of 2020'\n",
            " b'TheSocialDilemma highly recommended show documentry from Netflix totally scary'\n",
            " b'Social media starts to dig deeper and deeper into the brain stem and takes over sense of self worth and identity TheSocialDilemma'\n",
            " b'Is there not an onus on us as society to not be so easily manipulated TheSocialDilemma'\n",
            " b'TheSocialDilemma also showed that our president is able to get support amp attention via news media channels amp socia'\n",
            " b'Amazing doc on Netflix TheSocialDilemma ironically I headed to Twitter straight after but go watch it Also me'\n",
            " b'30 I wish they could bring it in our regional languages as well coz majority of'\n",
            " b'Spent my Afternoon watching TheSocialDilemma amp The Portrayed Future is Scary not because of AI Controlling Use'\n",
            " b'Holy shxt that search engine predictions are different from opposing locations worldwide TheSocialDilemma'\n",
            " b'TheSocialDilemma is informative interesting and important everyone ought to watch it and take a stand'\n",
            " b'Fake News on Twitter spreads Six times faster than true News MIT Study Tristan Harris TheSocialDilemma So th'\n",
            " b'Have a watch of this TheSocialDilemma'\n",
            " b'TheSocialDilemma is way too important of a documentary to have a corny ass after school special with virtual Pete Campbell woven into it'\n",
            " b'TheSocialDilemma has given me a headache'\n",
            " b'The Social Dilemma J Orlowski 2020 Inside Out horror remake TheSocialDilemma JeffOrlowski Netflix'\n",
            " b'The Social Dilemma on netflix is a good watch even if you re familiar with the points it s making it s still a t'\n",
            " b'Everyone do yourself a favor and go watch thesocialdilemma'\n",
            " b'Dear Americans most of the population is not smart enough to realize that social media is brainwashing them into t'\n",
            " b'The irony is that we are all taking to social media to express our approval of the documentary TheSocialDilemma th'\n",
            " b'The Social Dilemma is a very disturbing documentary We re nothing but an algorithm to big tech companies and they'\n",
            " b'Just finished The Social Dilemma on Netlix Worth watching TheSocialDilemma Only drug dealers and software com'\n",
            " b'If you use it then you should definitely watch this documentary Oh my goodness TheSocialDilemma'\n",
            " b'TheSocialDilemma is a horror documentary'\n",
            " b'For how great TheSocialDilemma is as a doc the narrative segments are absolutely terrible lol'\n",
            " b'Currently watching TheSocialDilemma and uhhh yeah Tiktok has definitely change the way I view products cause I w'\n",
            " b'Watched TheSocialDilemma last night HighlyRecommend IronicToPost ButStill WatchIt'\n",
            " b'If nobody thought social media couldn t be weaponised ummm old media was propaganda advertising is so yeah that'\n",
            " b'Recommend watching TheSocialDilemma amp appreciate spreading awareness of the impact of social media But'\n",
            " b'tbf after watching TheSocialDilemma i m questioning my whole life thoughts and behaviour i was already aware o'\n",
            " b'TheSocialDilemma literally want to take a break from social media now'\n",
            " b'7 TheSocialDilemma also highlighted the tremendous amount of computing power we now possess which on the one h'\n",
            " b'The most shocking thing about TheSocialDilemma is that while its talking about how you re being manipulated by so'\n",
            " b'It feels curious to talk about TheSocialDilemma on a site like this when the doc made the valid point that social'\n",
            " b'Casually watching TheSocialDilemma while checking all my social media Oh the irony'\n",
            " b'They already knew I d think and tweet that TheSocialDilemma'\n",
            " b'Everyone needs to watch TheSocialDilemma on Netflix'\n",
            " b'Thanks to TheSocialDilemma Facebook and Twitter too should add new reason for deactivation Must watch docume'\n",
            " b'This documentary TheSocialDilemma is quite interesting how much power social media has over us I need to watch TheGreatHack after this'\n",
            " b'TheSocialDilemma Facebook Twitter Instagram Snapchat Pinterest etc all built on human pyschology AI to gather'\n",
            " b'Expected more Tad disappointed It has shown some bitter facts gud messsge Everyone must watch Atleast'\n",
            " b'Would love to get your thoughts on TheSocialDilemma on garyvee teawithvee askgaryvee'\n",
            " b'TheSocialDilemma is a must watch documentary that explains the psychology behind its addiction inc personalisatio'\n",
            " b'TheSocialDilemma A documentary that can almost make you deactivate your SOCIAL MEDIA'\n",
            " b'Pillay Ya ll should watch the social dilemma Hopefully it will shed some light on the workings of such'\n",
            " b'Watching TheSocialDilemma Raise your hand if you re simultaneously nodding and considering deleting all your'\n",
            " b'Honestly it s better for the country Many companies like tiktok take a lot of our own personal da'\n",
            " b'This is a must read It ties together hiphop TheSocialDilemma by NFLX GOOG FB MCD and NYC along with a h'\n",
            " b'If You Trust People Like MarkZuckerberg Watch TheSocialDilemma Now EllenDeGeneres ShowbizOpEd'\n",
            " b'Here are some key takeaways to consider your habits Turning off notifications I do that for all of my social med'\n",
            " b'After watching TheSocialDilemma I have a new appreciation of some small stuff about Twitter Like When I pull'\n",
            " b'After watching TheSocialDilemma here s one actionable thing we can all do right now Switch off all notifications'\n",
            " b'Final comment If you have watched NetFlix TheSocialDilemma the privacy experts interviewed are pro'\n",
            " b'TheSocialDilemma is the greatest thing to watch today'\n",
            " b'As Facebook pushes forward with a vast global infrastructure project perhaps they should consider if this dumpster'\n",
            " b'Seeing posts about why you need to watch TheSocialDilemma on social media'\n",
            " b'It feels very meta to watch a show like TheSocialDilemma a show about how technology companies track your usage'\n",
            " b'TheSocialDilemma A Must watch Highly recommended Thank you for the suggestion'\n",
            " b'So TheSocialDilemma basically telling that the industry is making billions from MNCs by fabricating truth amp dividi'\n",
            " b'Just watched TheSocialDilemma and I surmise SocialMedia is all about PERFECTION and POWER If not then what we'\n",
            " b'They are us TheSocialDilemma'\n",
            " b'The on bluntly explains how are apps and devices are impacting the mental health of our ch'\n",
            " b'the social dilemma TheSocialDilemma'\n",
            " b'This is scarier than any horror movie you will ever see thesocialdilemma Netflix thetruthbehindsocialmedia']\n",
            "-----------------------\n",
            "Sentiment:  [1 2 0 1 1 1 1 2 0 2 1 0 2 1 2 1 1 2 1 1 0 1 2 2 1 2 2 1 1 1 1 1 0 0 0 2 2\n",
            " 1 1 2 0 1 0 1 1 2 1 2 2 1 0 1 2 1 2 1 1 1 2 2 2 0 1 2]\n",
            "-----------------------\n",
            "Total Length:  64\n"
          ]
        }
      ]
    },
    {
      "cell_type": "code",
      "source": [
        "# create validation dataset\n",
        "validation_dataset = dataset.take(70) \n",
        "train_dataset = dataset.skip(70)\n",
        "\n",
        "# First 100 batch from dataset for validation data\n",
        "# Each bath will contain 64 samples(Batch_size = 64 defined above)\n",
        "# Skip first 100 batches from dataset and create a new train_dataset"
      ],
      "metadata": {
        "id": "Ji3q5yFV0dS9"
      },
      "execution_count": 206,
      "outputs": []
    },
    {
      "cell_type": "code",
      "source": [
        "# Create the layer, and pass the dataset text to the layer\n",
        "token_size = 1200\n",
        "encoder = tf.keras.layers.experimental.preprocessing.TextVectorization(max_tokens=token_size)\n",
        "encoder.adapt(train_dataset.map(lambda text, Target: text))"
      ],
      "metadata": {
        "id": "fcQSU4Dd1hsj"
      },
      "execution_count": 207,
      "outputs": []
    },
    {
      "cell_type": "code",
      "source": [
        "# create vocabulary of words\n",
        "vocabulary = np.array(encoder.get_vocabulary())\n",
        "\n",
        "# print top 30 vocabulary\n",
        "vocabulary[0:30]"
      ],
      "metadata": {
        "colab": {
          "base_uri": "https://localhost:8080/"
        },
        "id": "JqJ5LUHC4Pvb",
        "outputId": "7e8e6d94-864a-45d3-faa3-beb01520374c"
      },
      "execution_count": 208,
      "outputs": [
        {
          "output_type": "execute_result",
          "data": {
            "text/plain": [
              "array(['', '[UNK]', 'thesocialdilemma', 'the', 'i', 'to', 'on', 'and',\n",
              "       'you', 'a', 'it', 'is', 'social', 'watch', 'of', 'netflix', 's',\n",
              "       'this', 'that', 'in', 'media', 'are', 'for', 'we', 'watching', 't',\n",
              "       'if', 'watched', 'about', 'my'], dtype='<U17')"
            ]
          },
          "metadata": {},
          "execution_count": 208
        }
      ]
    },
    {
      "cell_type": "code",
      "source": [
        "#Checking the length of the vocabulary\n",
        "len(vocabulary)"
      ],
      "metadata": {
        "colab": {
          "base_uri": "https://localhost:8080/"
        },
        "id": "GsAZ304Z4ZsC",
        "outputId": "d15ce4e3-1fb1-4e25-ced8-3039adbed776"
      },
      "execution_count": 209,
      "outputs": [
        {
          "output_type": "execute_result",
          "data": {
            "text/plain": [
              "1200"
            ]
          },
          "metadata": {},
          "execution_count": 209
        }
      ]
    },
    {
      "cell_type": "code",
      "source": [
        "#Checking a sample example and this will give is the index of the alphabets\n",
        "encoded_example = encoder(\"i can do this on netflix\").numpy()"
      ],
      "metadata": {
        "id": "6w4x4gzP41pq"
      },
      "execution_count": 210,
      "outputs": []
    },
    {
      "cell_type": "code",
      "source": [
        "#Index of the alphabets in the statement above\n",
        "encoded_example"
      ],
      "metadata": {
        "colab": {
          "base_uri": "https://localhost:8080/"
        },
        "id": "u_svTQpn5cyh",
        "outputId": "49ef87cd-bb82-4c8a-fd0a-20481415f38d"
      },
      "execution_count": 211,
      "outputs": [
        {
          "output_type": "execute_result",
          "data": {
            "text/plain": [
              "array([ 4, 63, 49, 17,  6, 15])"
            ]
          },
          "metadata": {},
          "execution_count": 211
        }
      ]
    },
    {
      "cell_type": "markdown",
      "source": [
        "**STEP4 - Defining your RNN model architecture**"
      ],
      "metadata": {
        "id": "wuKDr3i20J8j"
      }
    },
    {
      "cell_type": "code",
      "source": [
        "# Create RNN model\n",
        "rnn = tf.keras.Sequential([\n",
        "    encoder,\n",
        "    tf.keras.layers.Embedding(input_dim=len(encoder.get_vocabulary()), output_dim=64, mask_zero=True),\n",
        "    tf.keras.layers.SimpleRNN(64),\n",
        "    tf.keras.layers.Dense(64, activation=\"relu\"),\n",
        "    #Using softmax due to 3 labels in the output(Multiclass classification)\n",
        "    tf.keras.layers.Dense(3, activation=\"softmax\")])"
      ],
      "metadata": {
        "id": "f-gtsVwM5nOU"
      },
      "execution_count": 212,
      "outputs": []
    },
    {
      "cell_type": "markdown",
      "source": [
        "**STEP5 - Compiling your RNN model**"
      ],
      "metadata": {
        "id": "Z3M0R9_S0RxR"
      }
    },
    {
      "cell_type": "code",
      "source": [
        "# compile the model\n",
        "\n",
        "# For multiclass classification:\n",
        "back_propagation = rnn.compile(loss=\"sparse_categorical_crossentropy\",optimizer=tf.keras.optimizers.Adam(0.0001),metrics=['accuracy'])"
      ],
      "metadata": {
        "id": "Gp6G-jRR8iap"
      },
      "execution_count": 213,
      "outputs": []
    },
    {
      "cell_type": "markdown",
      "source": [
        "**STEP6 - Training your model on your training data**"
      ],
      "metadata": {
        "id": "n_hNKe6L0Zu5"
      }
    },
    {
      "cell_type": "code",
      "source": [
        "rnn.summary()"
      ],
      "metadata": {
        "colab": {
          "base_uri": "https://localhost:8080/"
        },
        "id": "Olh5e1Gz2ErB",
        "outputId": "4ea446ca-2351-4768-d337-700ce0205bbe"
      },
      "execution_count": 235,
      "outputs": [
        {
          "output_type": "stream",
          "name": "stdout",
          "text": [
            "Model: \"sequential_2\"\n",
            "_________________________________________________________________\n",
            "Layer (type)                 Output Shape              Param #   \n",
            "=================================================================\n",
            "text_vectorization_2 (TextVe (None, None)              0         \n",
            "_________________________________________________________________\n",
            "embedding_2 (Embedding)      (None, None, 64)          76800     \n",
            "_________________________________________________________________\n",
            "simple_rnn_2 (SimpleRNN)     (None, 64)                8256      \n",
            "_________________________________________________________________\n",
            "dense_4 (Dense)              (None, 64)                4160      \n",
            "_________________________________________________________________\n",
            "dense_5 (Dense)              (None, 3)                 195       \n",
            "=================================================================\n",
            "Total params: 89,411\n",
            "Trainable params: 89,411\n",
            "Non-trainable params: 0\n",
            "_________________________________________________________________\n"
          ]
        }
      ]
    },
    {
      "cell_type": "code",
      "source": [
        "#Fit the model and tracking the loss and validation accuracy\n",
        "EPOCHS = 50\n",
        "\n",
        "result = rnn.fit(train_dataset, epochs=EPOCHS, validation_data = validation_dataset)"
      ],
      "metadata": {
        "colab": {
          "base_uri": "https://localhost:8080/"
        },
        "id": "P15zd3jV8ilC",
        "outputId": "3073b864-90bf-4c63-a920-556edeae6d3d"
      },
      "execution_count": 214,
      "outputs": [
        {
          "output_type": "stream",
          "name": "stdout",
          "text": [
            "Epoch 1/50\n",
            "134/134 [==============================] - 4s 21ms/step - loss: 1.0682 - accuracy: 0.4110 - val_loss: 0.9800 - val_accuracy: 0.5643\n",
            "Epoch 2/50\n",
            "134/134 [==============================] - 3s 19ms/step - loss: 0.9652 - accuracy: 0.5803 - val_loss: 0.8407 - val_accuracy: 0.6509\n",
            "Epoch 3/50\n",
            "134/134 [==============================] - 3s 19ms/step - loss: 0.8261 - accuracy: 0.6579 - val_loss: 0.7327 - val_accuracy: 0.6951\n",
            "Epoch 4/50\n",
            "134/134 [==============================] - 2s 18ms/step - loss: 0.7066 - accuracy: 0.7198 - val_loss: 0.6275 - val_accuracy: 0.7647\n",
            "Epoch 5/50\n",
            "134/134 [==============================] - 2s 18ms/step - loss: 0.6043 - accuracy: 0.7754 - val_loss: 0.5447 - val_accuracy: 0.8049\n",
            "Epoch 6/50\n",
            "134/134 [==============================] - 3s 19ms/step - loss: 0.5277 - accuracy: 0.8089 - val_loss: 0.4868 - val_accuracy: 0.8241\n",
            "Epoch 7/50\n",
            "134/134 [==============================] - 3s 19ms/step - loss: 0.4821 - accuracy: 0.8279 - val_loss: 0.4293 - val_accuracy: 0.8554\n",
            "Epoch 8/50\n",
            "134/134 [==============================] - 3s 19ms/step - loss: 0.4307 - accuracy: 0.8492 - val_loss: 0.3721 - val_accuracy: 0.8712\n",
            "Epoch 9/50\n",
            "134/134 [==============================] - 3s 19ms/step - loss: 0.3944 - accuracy: 0.8597 - val_loss: 0.3423 - val_accuracy: 0.8955\n",
            "Epoch 10/50\n",
            "134/134 [==============================] - 3s 19ms/step - loss: 0.3487 - accuracy: 0.8857 - val_loss: 0.3268 - val_accuracy: 0.8931\n",
            "Epoch 11/50\n",
            "134/134 [==============================] - 2s 18ms/step - loss: 0.3198 - accuracy: 0.8966 - val_loss: 0.3406 - val_accuracy: 0.8819\n",
            "Epoch 12/50\n",
            "134/134 [==============================] - 3s 19ms/step - loss: 0.3034 - accuracy: 0.9031 - val_loss: 0.2945 - val_accuracy: 0.9042\n",
            "Epoch 13/50\n",
            "134/134 [==============================] - 2s 18ms/step - loss: 0.2807 - accuracy: 0.9098 - val_loss: 0.2809 - val_accuracy: 0.9127\n",
            "Epoch 14/50\n",
            "134/134 [==============================] - 2s 18ms/step - loss: 0.2771 - accuracy: 0.9106 - val_loss: 0.2684 - val_accuracy: 0.9132\n",
            "Epoch 15/50\n",
            "134/134 [==============================] - 2s 19ms/step - loss: 0.2596 - accuracy: 0.9192 - val_loss: 0.2579 - val_accuracy: 0.9183\n",
            "Epoch 16/50\n",
            "134/134 [==============================] - 2s 18ms/step - loss: 0.2568 - accuracy: 0.9240 - val_loss: 0.2583 - val_accuracy: 0.9223\n",
            "Epoch 17/50\n",
            "134/134 [==============================] - 2s 18ms/step - loss: 0.2504 - accuracy: 0.9200 - val_loss: 0.2379 - val_accuracy: 0.9290\n",
            "Epoch 18/50\n",
            "134/134 [==============================] - 3s 19ms/step - loss: 0.2490 - accuracy: 0.9212 - val_loss: 0.2030 - val_accuracy: 0.9395\n",
            "Epoch 19/50\n",
            "134/134 [==============================] - 2s 18ms/step - loss: 0.2200 - accuracy: 0.9334 - val_loss: 0.2112 - val_accuracy: 0.9357\n",
            "Epoch 20/50\n",
            "134/134 [==============================] - 3s 19ms/step - loss: 0.2213 - accuracy: 0.9303 - val_loss: 0.2259 - val_accuracy: 0.9326\n",
            "Epoch 21/50\n",
            "134/134 [==============================] - 3s 20ms/step - loss: 0.1989 - accuracy: 0.9406 - val_loss: 0.2288 - val_accuracy: 0.9292\n",
            "Epoch 22/50\n",
            "134/134 [==============================] - 3s 19ms/step - loss: 0.2026 - accuracy: 0.9385 - val_loss: 0.1914 - val_accuracy: 0.9453\n",
            "Epoch 23/50\n",
            "134/134 [==============================] - 3s 19ms/step - loss: 0.1949 - accuracy: 0.9436 - val_loss: 0.1876 - val_accuracy: 0.9424\n",
            "Epoch 24/50\n",
            "134/134 [==============================] - 3s 19ms/step - loss: 0.1845 - accuracy: 0.9471 - val_loss: 0.1885 - val_accuracy: 0.9420\n",
            "Epoch 25/50\n",
            "134/134 [==============================] - 3s 19ms/step - loss: 0.1892 - accuracy: 0.9432 - val_loss: 0.2032 - val_accuracy: 0.9371\n",
            "Epoch 26/50\n",
            "134/134 [==============================] - 3s 19ms/step - loss: 0.1791 - accuracy: 0.9469 - val_loss: 0.1795 - val_accuracy: 0.9473\n",
            "Epoch 27/50\n",
            "134/134 [==============================] - 2s 18ms/step - loss: 0.1740 - accuracy: 0.9461 - val_loss: 0.1899 - val_accuracy: 0.9397\n",
            "Epoch 28/50\n",
            "134/134 [==============================] - 2s 18ms/step - loss: 0.1693 - accuracy: 0.9487 - val_loss: 0.1774 - val_accuracy: 0.9458\n",
            "Epoch 29/50\n",
            "134/134 [==============================] - 2s 18ms/step - loss: 0.1647 - accuracy: 0.9522 - val_loss: 0.1695 - val_accuracy: 0.9502\n",
            "Epoch 30/50\n",
            "134/134 [==============================] - 3s 19ms/step - loss: 0.1721 - accuracy: 0.9517 - val_loss: 0.1528 - val_accuracy: 0.9587\n",
            "Epoch 31/50\n",
            "134/134 [==============================] - 3s 19ms/step - loss: 0.1730 - accuracy: 0.9471 - val_loss: 0.1451 - val_accuracy: 0.9598\n",
            "Epoch 32/50\n",
            "134/134 [==============================] - 3s 19ms/step - loss: 0.1410 - accuracy: 0.9588 - val_loss: 0.1383 - val_accuracy: 0.9621\n",
            "Epoch 33/50\n",
            "134/134 [==============================] - 3s 19ms/step - loss: 0.1390 - accuracy: 0.9614 - val_loss: 0.1455 - val_accuracy: 0.9589\n",
            "Epoch 34/50\n",
            "134/134 [==============================] - 2s 18ms/step - loss: 0.1342 - accuracy: 0.9595 - val_loss: 0.1239 - val_accuracy: 0.9632\n",
            "Epoch 35/50\n",
            "134/134 [==============================] - 2s 18ms/step - loss: 0.1463 - accuracy: 0.9582 - val_loss: 0.1376 - val_accuracy: 0.9625\n",
            "Epoch 36/50\n",
            "134/134 [==============================] - 2s 18ms/step - loss: 0.1337 - accuracy: 0.9623 - val_loss: 0.1335 - val_accuracy: 0.9627\n",
            "Epoch 37/50\n",
            "134/134 [==============================] - 3s 19ms/step - loss: 0.1355 - accuracy: 0.9610 - val_loss: 0.1412 - val_accuracy: 0.9567\n",
            "Epoch 38/50\n",
            "134/134 [==============================] - 3s 19ms/step - loss: 0.1190 - accuracy: 0.9666 - val_loss: 0.1237 - val_accuracy: 0.9629\n",
            "Epoch 39/50\n",
            "134/134 [==============================] - 3s 19ms/step - loss: 0.1282 - accuracy: 0.9631 - val_loss: 0.1081 - val_accuracy: 0.9701\n",
            "Epoch 40/50\n",
            "134/134 [==============================] - 3s 19ms/step - loss: 0.1203 - accuracy: 0.9654 - val_loss: 0.1032 - val_accuracy: 0.9717\n",
            "Epoch 41/50\n",
            "134/134 [==============================] - 3s 18ms/step - loss: 0.1130 - accuracy: 0.9693 - val_loss: 0.1037 - val_accuracy: 0.9743\n",
            "Epoch 42/50\n",
            "134/134 [==============================] - 3s 19ms/step - loss: 0.1062 - accuracy: 0.9698 - val_loss: 0.0992 - val_accuracy: 0.9746\n",
            "Epoch 43/50\n",
            "134/134 [==============================] - 3s 19ms/step - loss: 0.1045 - accuracy: 0.9689 - val_loss: 0.0866 - val_accuracy: 0.9770\n",
            "Epoch 44/50\n",
            "134/134 [==============================] - 3s 19ms/step - loss: 0.0955 - accuracy: 0.9766 - val_loss: 0.1048 - val_accuracy: 0.9739\n",
            "Epoch 45/50\n",
            "134/134 [==============================] - 2s 18ms/step - loss: 0.1022 - accuracy: 0.9737 - val_loss: 0.0928 - val_accuracy: 0.9750\n",
            "Epoch 46/50\n",
            "134/134 [==============================] - 2s 18ms/step - loss: 0.0832 - accuracy: 0.9759 - val_loss: 0.0971 - val_accuracy: 0.9723\n",
            "Epoch 47/50\n",
            "134/134 [==============================] - 2s 18ms/step - loss: 0.1011 - accuracy: 0.9725 - val_loss: 0.0887 - val_accuracy: 0.9746\n",
            "Epoch 48/50\n",
            "134/134 [==============================] - 3s 19ms/step - loss: 0.0930 - accuracy: 0.9735 - val_loss: 0.0782 - val_accuracy: 0.9792\n",
            "Epoch 49/50\n",
            "134/134 [==============================] - 2s 18ms/step - loss: 0.0892 - accuracy: 0.9758 - val_loss: 0.0820 - val_accuracy: 0.9779\n",
            "Epoch 50/50\n",
            "134/134 [==============================] - 2s 18ms/step - loss: 0.0731 - accuracy: 0.9797 - val_loss: 0.0709 - val_accuracy: 0.9810\n"
          ]
        }
      ]
    },
    {
      "cell_type": "markdown",
      "source": [
        "**STEP7 - EVALUATING MODEL ON UNSEEN DATA**"
      ],
      "metadata": {
        "id": "29fb1Pxf07Wp"
      }
    },
    {
      "cell_type": "code",
      "source": [
        "y_pred = rnn.predict(df_testing[\"clean_text\"])\n",
        "y_pred"
      ],
      "metadata": {
        "colab": {
          "base_uri": "https://localhost:8080/"
        },
        "id": "VRkDtM2DODjq",
        "outputId": "041abf37-f5ab-4850-ff75-0a38b70d900c"
      },
      "execution_count": 215,
      "outputs": [
        {
          "output_type": "execute_result",
          "data": {
            "text/plain": [
              "array([[1.9064602e-02, 5.0939310e-02, 9.2999601e-01],\n",
              "       [1.3136940e-05, 9.9998689e-01, 3.2108030e-08],\n",
              "       [1.0406479e-04, 3.1447451e-04, 9.9958152e-01],\n",
              "       ...,\n",
              "       [8.5914861e-03, 5.3972844e-03, 9.8601127e-01],\n",
              "       [3.6802667e-05, 9.9996257e-01, 5.5158375e-07],\n",
              "       [1.7257351e-02, 1.5667806e-03, 9.8117584e-01]], dtype=float32)"
            ]
          },
          "metadata": {},
          "execution_count": 215
        }
      ]
    },
    {
      "cell_type": "code",
      "source": [
        "y_pred[:10]"
      ],
      "metadata": {
        "colab": {
          "base_uri": "https://localhost:8080/"
        },
        "id": "Ge7-_UCfydzX",
        "outputId": "11220da6-65e3-42ee-c607-97cec2c26734"
      },
      "execution_count": 216,
      "outputs": [
        {
          "output_type": "execute_result",
          "data": {
            "text/plain": [
              "array([[1.9064602e-02, 5.0939310e-02, 9.2999601e-01],\n",
              "       [1.3136940e-05, 9.9998689e-01, 3.2108030e-08],\n",
              "       [1.0406479e-04, 3.1447451e-04, 9.9958152e-01],\n",
              "       [2.7518615e-04, 9.9942422e-01, 3.0059039e-04],\n",
              "       [8.1358099e-01, 6.0297739e-02, 1.2612136e-01],\n",
              "       [9.9683905e-01, 3.0979624e-03, 6.2942796e-05],\n",
              "       [2.9976731e-05, 6.3011517e-05, 9.9990702e-01],\n",
              "       [2.5434309e-04, 2.0865859e-04, 9.9953699e-01],\n",
              "       [4.0074270e-03, 8.9061666e-01, 1.0537593e-01],\n",
              "       [7.8190854e-03, 9.9181455e-01, 3.6631926e-04]], dtype=float32)"
            ]
          },
          "metadata": {},
          "execution_count": 216
        }
      ]
    },
    {
      "cell_type": "code",
      "source": [
        "df_testing[\"Predicted_labels\"] = np.argmax(y_pred, axis=1)"
      ],
      "metadata": {
        "colab": {
          "base_uri": "https://localhost:8080/"
        },
        "id": "43tvQFzSyi_4",
        "outputId": "077e5cd0-eee0-4309-c34c-824f69cb5162"
      },
      "execution_count": 217,
      "outputs": [
        {
          "output_type": "stream",
          "name": "stderr",
          "text": [
            "/usr/local/lib/python3.7/dist-packages/ipykernel_launcher.py:1: SettingWithCopyWarning: \n",
            "A value is trying to be set on a copy of a slice from a DataFrame.\n",
            "Try using .loc[row_indexer,col_indexer] = value instead\n",
            "\n",
            "See the caveats in the documentation: https://pandas.pydata.org/pandas-docs/stable/user_guide/indexing.html#returning-a-view-versus-a-copy\n",
            "  \"\"\"Entry point for launching an IPython kernel.\n"
          ]
        }
      ]
    },
    {
      "cell_type": "code",
      "source": [
        "df_testing"
      ],
      "metadata": {
        "colab": {
          "base_uri": "https://localhost:8080/",
          "height": 423
        },
        "id": "PfvG_Ygxy4uw",
        "outputId": "ec0d317e-f972-4893-9e54-3c62f7788a41"
      },
      "execution_count": 218,
      "outputs": [
        {
          "output_type": "execute_result",
          "data": {
            "text/html": [
              "\n",
              "  <div id=\"df-22287914-aef2-4653-a3c0-1d8ff90fc030\">\n",
              "    <div class=\"colab-df-container\">\n",
              "      <div>\n",
              "<style scoped>\n",
              "    .dataframe tbody tr th:only-of-type {\n",
              "        vertical-align: middle;\n",
              "    }\n",
              "\n",
              "    .dataframe tbody tr th {\n",
              "        vertical-align: top;\n",
              "    }\n",
              "\n",
              "    .dataframe thead th {\n",
              "        text-align: right;\n",
              "    }\n",
              "</style>\n",
              "<table border=\"1\" class=\"dataframe\">\n",
              "  <thead>\n",
              "    <tr style=\"text-align: right;\">\n",
              "      <th></th>\n",
              "      <th>clean_text</th>\n",
              "      <th>Target</th>\n",
              "      <th>Predicted_labels</th>\n",
              "    </tr>\n",
              "  </thead>\n",
              "  <tbody>\n",
              "    <tr>\n",
              "      <th>13006</th>\n",
              "      <td>Has anyone watched TheSocialDilemma on Netflix...</td>\n",
              "      <td>2</td>\n",
              "      <td>2</td>\n",
              "    </tr>\n",
              "    <tr>\n",
              "      <th>13007</th>\n",
              "      <td>Social media platforms like Twitter Facebook I...</td>\n",
              "      <td>1</td>\n",
              "      <td>1</td>\n",
              "    </tr>\n",
              "    <tr>\n",
              "      <th>13008</th>\n",
              "      <td>That s it that s the tweet TheSocialDilemma</td>\n",
              "      <td>2</td>\n",
              "      <td>2</td>\n",
              "    </tr>\n",
              "    <tr>\n",
              "      <th>13009</th>\n",
              "      <td>Powerful words by Justin Rosenstein former pro...</td>\n",
              "      <td>1</td>\n",
              "      <td>1</td>\n",
              "    </tr>\n",
              "    <tr>\n",
              "      <th>13010</th>\n",
              "      <td>Try dopamine fasts Do Watch this documentary T...</td>\n",
              "      <td>2</td>\n",
              "      <td>0</td>\n",
              "    </tr>\n",
              "    <tr>\n",
              "      <th>...</th>\n",
              "      <td>...</td>\n",
              "      <td>...</td>\n",
              "      <td>...</td>\n",
              "    </tr>\n",
              "    <tr>\n",
              "      <th>16995</th>\n",
              "      <td>Watching TheSocialDilemma</td>\n",
              "      <td>2</td>\n",
              "      <td>2</td>\n",
              "    </tr>\n",
              "    <tr>\n",
              "      <th>16996</th>\n",
              "      <td>If you re not paying for the product you are t...</td>\n",
              "      <td>2</td>\n",
              "      <td>2</td>\n",
              "    </tr>\n",
              "    <tr>\n",
              "      <th>16997</th>\n",
              "      <td>Watching TheSocialDilemma Let s see</td>\n",
              "      <td>2</td>\n",
              "      <td>2</td>\n",
              "    </tr>\n",
              "    <tr>\n",
              "      <th>16998</th>\n",
              "      <td>Yes TheSocialDilemma what a perfect time to be...</td>\n",
              "      <td>1</td>\n",
              "      <td>1</td>\n",
              "    </tr>\n",
              "    <tr>\n",
              "      <th>16999</th>\n",
              "      <td>had the impression that is actually sitting in...</td>\n",
              "      <td>0</td>\n",
              "      <td>2</td>\n",
              "    </tr>\n",
              "  </tbody>\n",
              "</table>\n",
              "<p>3992 rows × 3 columns</p>\n",
              "</div>\n",
              "      <button class=\"colab-df-convert\" onclick=\"convertToInteractive('df-22287914-aef2-4653-a3c0-1d8ff90fc030')\"\n",
              "              title=\"Convert this dataframe to an interactive table.\"\n",
              "              style=\"display:none;\">\n",
              "        \n",
              "  <svg xmlns=\"http://www.w3.org/2000/svg\" height=\"24px\"viewBox=\"0 0 24 24\"\n",
              "       width=\"24px\">\n",
              "    <path d=\"M0 0h24v24H0V0z\" fill=\"none\"/>\n",
              "    <path d=\"M18.56 5.44l.94 2.06.94-2.06 2.06-.94-2.06-.94-.94-2.06-.94 2.06-2.06.94zm-11 1L8.5 8.5l.94-2.06 2.06-.94-2.06-.94L8.5 2.5l-.94 2.06-2.06.94zm10 10l.94 2.06.94-2.06 2.06-.94-2.06-.94-.94-2.06-.94 2.06-2.06.94z\"/><path d=\"M17.41 7.96l-1.37-1.37c-.4-.4-.92-.59-1.43-.59-.52 0-1.04.2-1.43.59L10.3 9.45l-7.72 7.72c-.78.78-.78 2.05 0 2.83L4 21.41c.39.39.9.59 1.41.59.51 0 1.02-.2 1.41-.59l7.78-7.78 2.81-2.81c.8-.78.8-2.07 0-2.86zM5.41 20L4 18.59l7.72-7.72 1.47 1.35L5.41 20z\"/>\n",
              "  </svg>\n",
              "      </button>\n",
              "      \n",
              "  <style>\n",
              "    .colab-df-container {\n",
              "      display:flex;\n",
              "      flex-wrap:wrap;\n",
              "      gap: 12px;\n",
              "    }\n",
              "\n",
              "    .colab-df-convert {\n",
              "      background-color: #E8F0FE;\n",
              "      border: none;\n",
              "      border-radius: 50%;\n",
              "      cursor: pointer;\n",
              "      display: none;\n",
              "      fill: #1967D2;\n",
              "      height: 32px;\n",
              "      padding: 0 0 0 0;\n",
              "      width: 32px;\n",
              "    }\n",
              "\n",
              "    .colab-df-convert:hover {\n",
              "      background-color: #E2EBFA;\n",
              "      box-shadow: 0px 1px 2px rgba(60, 64, 67, 0.3), 0px 1px 3px 1px rgba(60, 64, 67, 0.15);\n",
              "      fill: #174EA6;\n",
              "    }\n",
              "\n",
              "    [theme=dark] .colab-df-convert {\n",
              "      background-color: #3B4455;\n",
              "      fill: #D2E3FC;\n",
              "    }\n",
              "\n",
              "    [theme=dark] .colab-df-convert:hover {\n",
              "      background-color: #434B5C;\n",
              "      box-shadow: 0px 1px 3px 1px rgba(0, 0, 0, 0.15);\n",
              "      filter: drop-shadow(0px 1px 2px rgba(0, 0, 0, 0.3));\n",
              "      fill: #FFFFFF;\n",
              "    }\n",
              "  </style>\n",
              "\n",
              "      <script>\n",
              "        const buttonEl =\n",
              "          document.querySelector('#df-22287914-aef2-4653-a3c0-1d8ff90fc030 button.colab-df-convert');\n",
              "        buttonEl.style.display =\n",
              "          google.colab.kernel.accessAllowed ? 'block' : 'none';\n",
              "\n",
              "        async function convertToInteractive(key) {\n",
              "          const element = document.querySelector('#df-22287914-aef2-4653-a3c0-1d8ff90fc030');\n",
              "          const dataTable =\n",
              "            await google.colab.kernel.invokeFunction('convertToInteractive',\n",
              "                                                     [key], {});\n",
              "          if (!dataTable) return;\n",
              "\n",
              "          const docLinkHtml = 'Like what you see? Visit the ' +\n",
              "            '<a target=\"_blank\" href=https://colab.research.google.com/notebooks/data_table.ipynb>data table notebook</a>'\n",
              "            + ' to learn more about interactive tables.';\n",
              "          element.innerHTML = '';\n",
              "          dataTable['output_type'] = 'display_data';\n",
              "          await google.colab.output.renderOutput(dataTable, element);\n",
              "          const docLink = document.createElement('div');\n",
              "          docLink.innerHTML = docLinkHtml;\n",
              "          element.appendChild(docLink);\n",
              "        }\n",
              "      </script>\n",
              "    </div>\n",
              "  </div>\n",
              "  "
            ],
            "text/plain": [
              "                                              clean_text  Target  \\\n",
              "13006  Has anyone watched TheSocialDilemma on Netflix...       2   \n",
              "13007  Social media platforms like Twitter Facebook I...       1   \n",
              "13008        That s it that s the tweet TheSocialDilemma       2   \n",
              "13009  Powerful words by Justin Rosenstein former pro...       1   \n",
              "13010  Try dopamine fasts Do Watch this documentary T...       2   \n",
              "...                                                  ...     ...   \n",
              "16995                          Watching TheSocialDilemma       2   \n",
              "16996  If you re not paying for the product you are t...       2   \n",
              "16997                Watching TheSocialDilemma Let s see       2   \n",
              "16998  Yes TheSocialDilemma what a perfect time to be...       1   \n",
              "16999  had the impression that is actually sitting in...       0   \n",
              "\n",
              "       Predicted_labels  \n",
              "13006                 2  \n",
              "13007                 1  \n",
              "13008                 2  \n",
              "13009                 1  \n",
              "13010                 0  \n",
              "...                 ...  \n",
              "16995                 2  \n",
              "16996                 2  \n",
              "16997                 2  \n",
              "16998                 1  \n",
              "16999                 2  \n",
              "\n",
              "[3992 rows x 3 columns]"
            ]
          },
          "metadata": {},
          "execution_count": 218
        }
      ]
    },
    {
      "cell_type": "code",
      "source": [
        "y_test = df_testing[\"Target\"]"
      ],
      "metadata": {
        "id": "uVklkdkSzMUQ"
      },
      "execution_count": 219,
      "outputs": []
    },
    {
      "cell_type": "code",
      "source": [
        "accuracy_score(df_testing[\"Target\"], df_testing[\"Predicted_labels\"])"
      ],
      "metadata": {
        "colab": {
          "base_uri": "https://localhost:8080/"
        },
        "id": "LPDJlDH06YdC",
        "outputId": "713852b2-3bc2-4d6d-8a27-eb787eb83927"
      },
      "execution_count": 243,
      "outputs": [
        {
          "output_type": "execute_result",
          "data": {
            "text/plain": [
              "0.841182364729459"
            ]
          },
          "metadata": {},
          "execution_count": 243
        }
      ]
    },
    {
      "cell_type": "code",
      "source": [
        "y_pred = df_testing[\"Predicted_labels\"]"
      ],
      "metadata": {
        "id": "mrko1sX2zTyc"
      },
      "execution_count": 220,
      "outputs": []
    },
    {
      "cell_type": "code",
      "source": [
        "print(classification_report(y_test,y_pred))"
      ],
      "metadata": {
        "colab": {
          "base_uri": "https://localhost:8080/"
        },
        "id": "2g_XeD8gODb3",
        "outputId": "48f38897-cf18-4119-f22b-eb5388d993f1"
      },
      "execution_count": 221,
      "outputs": [
        {
          "output_type": "stream",
          "name": "stdout",
          "text": [
            "              precision    recall  f1-score   support\n",
            "\n",
            "           0       0.72      0.71      0.71       670\n",
            "           1       0.88      0.88      0.88      1932\n",
            "           2       0.84      0.86      0.85      1390\n",
            "\n",
            "    accuracy                           0.84      3992\n",
            "   macro avg       0.82      0.81      0.81      3992\n",
            "weighted avg       0.84      0.84      0.84      3992\n",
            "\n"
          ]
        }
      ]
    },
    {
      "cell_type": "code",
      "source": [
        "#Plot the confusion matrix\n",
        "cm = confusion_matrix(y_test, y_pred)\n",
        "\n",
        "matrix = pd.DataFrame(data =cm, columns=[\"Predict 0\",\"Predict 1\",\"Predict 2\"],\n",
        "                     index = [\"Actual 0\",\"Actual 1\",\"Actual 2\"])\n",
        "\n",
        "conf_matrix = sns.heatmap(data = matrix, annot=True, cbar=False,fmt=\"d\", cmap=plt.cm.Blues) "
      ],
      "metadata": {
        "colab": {
          "base_uri": "https://localhost:8080/",
          "height": 264
        },
        "id": "noYnMwG_Z9RM",
        "outputId": "261f41d8-93cd-4797-fe9c-270f4917090a"
      },
      "execution_count": 222,
      "outputs": [
        {
          "output_type": "display_data",
          "data": {
            "image/png": "[encoded data removed]",
            "text/plain": [
              "<Figure size 432x288 with 1 Axes>"
            ]
          },
          "metadata": {}
        }
      ]
    },
    {
      "cell_type": "code",
      "source": [
        "# plot the training and validation loss\n",
        "N = np.arange(0, EPOCHS)\n",
        "plt.style.use(\"ggplot\")\n",
        "plt.figure(figsize = [10,8])\n",
        "plt.plot(N, result.history[\"loss\"], label=\"train_loss\")\n",
        "plt.plot(N, result.history[\"val_loss\"], label=\"val_loss\")\n",
        "plt.title(\"RNN: Training & Validation Loss\")\n",
        "plt.xlabel(\"Epoch #\", weight=\"bold\")\n",
        "plt.ylabel(\"Loss\", weight=\"bold\")\n",
        "plt.legend()\n",
        "plt.show()"
      ],
      "metadata": {
        "colab": {
          "base_uri": "https://localhost:8080/",
          "height": 516
        },
        "id": "hzB9e-Kai52C",
        "outputId": "5da60270-655b-4e13-f534-a062db588393"
      },
      "execution_count": 223,
      "outputs": [
        {
          "output_type": "display_data",
          "data": {
            "image/png": "[encoded data removed]",
            "text/plain": [
              "<Figure size 720x576 with 1 Axes>"
            ]
          },
          "metadata": {}
        }
      ]
    },
    {
      "cell_type": "code",
      "source": [
        "# plot the training and validation accuracy\n",
        "N = np.arange(0, EPOCHS)\n",
        "plt.style.use(\"ggplot\")\n",
        "plt.figure(figsize = [10,8])\n",
        "plt.plot(N, result.history[\"accuracy\"], label=\"train_acc\")\n",
        "plt.plot(N, result.history[\"val_accuracy\"], label=\"val_acc\")\n",
        "plt.title(\"RNN: Training and Validation Accuracy\")\n",
        "plt.xlabel(\"Epoch #\", weight=\"bold\")\n",
        "plt.ylabel(\"Accuracy\", weight=\"bold\")\n",
        "plt.legend()\n",
        "plt.show()"
      ],
      "metadata": {
        "colab": {
          "base_uri": "https://localhost:8080/",
          "height": 516
        },
        "id": "fU0wv2gzi5uK",
        "outputId": "4b00fda1-2645-48ba-cdb5-fc996f7bab30"
      },
      "execution_count": 224,
      "outputs": [
        {
          "output_type": "display_data",
          "data": {
            "image/png": "[encoded data removed]",
            "text/plain": [
              "<Figure size 720x576 with 1 Axes>"
            ]
          },
          "metadata": {}
        }
      ]
    },
    {
      "cell_type": "code",
      "source": [
        "#checking the current working directory\n",
        "!dir"
      ],
      "metadata": {
        "colab": {
          "base_uri": "https://localhost:8080/"
        },
        "id": "XY4F8dCybwUE",
        "outputId": "ca4ee5b8-b672-4dbf-dcc5-b67520a0b8e2"
      },
      "execution_count": 225,
      "outputs": [
        {
          "output_type": "stream",
          "name": "stdout",
          "text": [
            "tweets_test.csv  tweets_train.csv\n"
          ]
        }
      ]
    },
    {
      "cell_type": "code",
      "source": [
        "#load the test dataset\n",
        "df_test = pd.read_csv(\"tweets_test.csv\")\n",
        "df_test.head()"
      ],
      "metadata": {
        "colab": {
          "base_uri": "https://localhost:8080/",
          "height": 443
        },
        "id": "JWIhGnpvcbfv",
        "outputId": "dad69f24-82a6-4d20-febb-555ed171bacc"
      },
      "execution_count": 226,
      "outputs": [
        {
          "output_type": "execute_result",
          "data": {
            "text/html": [
              "\n",
              "  <div id=\"df-c218d07b-49ef-40a2-ad34-6e4883717ae7\">\n",
              "    <div class=\"colab-df-container\">\n",
              "      <div>\n",
              "<style scoped>\n",
              "    .dataframe tbody tr th:only-of-type {\n",
              "        vertical-align: middle;\n",
              "    }\n",
              "\n",
              "    .dataframe tbody tr th {\n",
              "        vertical-align: top;\n",
              "    }\n",
              "\n",
              "    .dataframe thead th {\n",
              "        text-align: right;\n",
              "    }\n",
              "</style>\n",
              "<table border=\"1\" class=\"dataframe\">\n",
              "  <thead>\n",
              "    <tr style=\"text-align: right;\">\n",
              "      <th></th>\n",
              "      <th>user_name</th>\n",
              "      <th>user_location</th>\n",
              "      <th>user_description</th>\n",
              "      <th>user_created</th>\n",
              "      <th>user_followers</th>\n",
              "      <th>user_friends</th>\n",
              "      <th>user_favourites</th>\n",
              "      <th>user_verified</th>\n",
              "      <th>date</th>\n",
              "      <th>hashtags</th>\n",
              "      <th>source</th>\n",
              "      <th>is_retweet</th>\n",
              "      <th>clean_text</th>\n",
              "    </tr>\n",
              "  </thead>\n",
              "  <tbody>\n",
              "    <tr>\n",
              "      <th>0</th>\n",
              "      <td>Doug Webb</td>\n",
              "      <td>Probably Europe</td>\n",
              "      <td>I develop methods for effective cooperation, w...</td>\n",
              "      <td>2015-12-12 15:22:58</td>\n",
              "      <td>157</td>\n",
              "      <td>228</td>\n",
              "      <td>496</td>\n",
              "      <td>False</td>\n",
              "      <td>2020-09-15 22:53:36</td>\n",
              "      <td>['theSocialDilemma', 'joinMastodon']</td>\n",
              "      <td>Twitter Web App</td>\n",
              "      <td>False</td>\n",
              "      <td>Watch theSocialDilemma then joinMastodon</td>\n",
              "    </tr>\n",
              "    <tr>\n",
              "      <th>1</th>\n",
              "      <td>Dan Reynish</td>\n",
              "      <td>Medicine Hat, Alberta</td>\n",
              "      <td>News Anchor at Noon and 5 pm on CHAT TV. Canad...</td>\n",
              "      <td>2011-09-10 12:17:10</td>\n",
              "      <td>1722</td>\n",
              "      <td>2500</td>\n",
              "      <td>13912</td>\n",
              "      <td>False</td>\n",
              "      <td>2020-09-12 04:43:03</td>\n",
              "      <td>['WeTheNorth']</td>\n",
              "      <td>Twitter Web App</td>\n",
              "      <td>False</td>\n",
              "      <td>With the 2019 2020 NBA season officially over ...</td>\n",
              "    </tr>\n",
              "    <tr>\n",
              "      <th>2</th>\n",
              "      <td>🌤</td>\n",
              "      <td>NaN</td>\n",
              "      <td>NaN</td>\n",
              "      <td>2011-06-01 02:23:57</td>\n",
              "      <td>880</td>\n",
              "      <td>585</td>\n",
              "      <td>205</td>\n",
              "      <td>False</td>\n",
              "      <td>2020-09-19 07:06:53</td>\n",
              "      <td>['TheSocialDilemma']</td>\n",
              "      <td>Twitter for iPhone</td>\n",
              "      <td>False</td>\n",
              "      <td>if you want to really know about people go tal...</td>\n",
              "    </tr>\n",
              "    <tr>\n",
              "      <th>3</th>\n",
              "      <td>“IT IS WHAT IT IS.”🇰🇪🇳🇿🇺🇸</td>\n",
              "      <td>WA</td>\n",
              "      <td>Heliophile🌞☀️• #Rugby • Wildlifer • #HIV • #So...</td>\n",
              "      <td>2009-04-17 13:35:02</td>\n",
              "      <td>1143</td>\n",
              "      <td>2692</td>\n",
              "      <td>11999</td>\n",
              "      <td>False</td>\n",
              "      <td>2020-09-12 18:28:18</td>\n",
              "      <td>['TheSocialDilemma', 'Netflix']</td>\n",
              "      <td>Twitter for iPhone</td>\n",
              "      <td>False</td>\n",
              "      <td>Have you watched TheSocialDilemma on Netflix</td>\n",
              "    </tr>\n",
              "    <tr>\n",
              "      <th>4</th>\n",
              "      <td>Mahima Sood</td>\n",
              "      <td>NaN</td>\n",
              "      <td>Amy Dunne X Holly Golightly || Data Scientist ...</td>\n",
              "      <td>2018-01-26 21:57:22</td>\n",
              "      <td>18</td>\n",
              "      <td>65</td>\n",
              "      <td>263</td>\n",
              "      <td>False</td>\n",
              "      <td>2020-09-12 18:48:53</td>\n",
              "      <td>['TheSocialDilemma']</td>\n",
              "      <td>Twitter for iPhone</td>\n",
              "      <td>False</td>\n",
              "      <td>Highly recommend TheSocialDilemma on</td>\n",
              "    </tr>\n",
              "  </tbody>\n",
              "</table>\n",
              "</div>\n",
              "      <button class=\"colab-df-convert\" onclick=\"convertToInteractive('df-c218d07b-49ef-40a2-ad34-6e4883717ae7')\"\n",
              "              title=\"Convert this dataframe to an interactive table.\"\n",
              "              style=\"display:none;\">\n",
              "        \n",
              "  <svg xmlns=\"http://www.w3.org/2000/svg\" height=\"24px\"viewBox=\"0 0 24 24\"\n",
              "       width=\"24px\">\n",
              "    <path d=\"M0 0h24v24H0V0z\" fill=\"none\"/>\n",
              "    <path d=\"M18.56 5.44l.94 2.06.94-2.06 2.06-.94-2.06-.94-.94-2.06-.94 2.06-2.06.94zm-11 1L8.5 8.5l.94-2.06 2.06-.94-2.06-.94L8.5 2.5l-.94 2.06-2.06.94zm10 10l.94 2.06.94-2.06 2.06-.94-2.06-.94-.94-2.06-.94 2.06-2.06.94z\"/><path d=\"M17.41 7.96l-1.37-1.37c-.4-.4-.92-.59-1.43-.59-.52 0-1.04.2-1.43.59L10.3 9.45l-7.72 7.72c-.78.78-.78 2.05 0 2.83L4 21.41c.39.39.9.59 1.41.59.51 0 1.02-.2 1.41-.59l7.78-7.78 2.81-2.81c.8-.78.8-2.07 0-2.86zM5.41 20L4 18.59l7.72-7.72 1.47 1.35L5.41 20z\"/>\n",
              "  </svg>\n",
              "      </button>\n",
              "      \n",
              "  <style>\n",
              "    .colab-df-container {\n",
              "      display:flex;\n",
              "      flex-wrap:wrap;\n",
              "      gap: 12px;\n",
              "    }\n",
              "\n",
              "    .colab-df-convert {\n",
              "      background-color: #E8F0FE;\n",
              "      border: none;\n",
              "      border-radius: 50%;\n",
              "      cursor: pointer;\n",
              "      display: none;\n",
              "      fill: #1967D2;\n",
              "      height: 32px;\n",
              "      padding: 0 0 0 0;\n",
              "      width: 32px;\n",
              "    }\n",
              "\n",
              "    .colab-df-convert:hover {\n",
              "      background-color: #E2EBFA;\n",
              "      box-shadow: 0px 1px 2px rgba(60, 64, 67, 0.3), 0px 1px 3px 1px rgba(60, 64, 67, 0.15);\n",
              "      fill: #174EA6;\n",
              "    }\n",
              "\n",
              "    [theme=dark] .colab-df-convert {\n",
              "      background-color: #3B4455;\n",
              "      fill: #D2E3FC;\n",
              "    }\n",
              "\n",
              "    [theme=dark] .colab-df-convert:hover {\n",
              "      background-color: #434B5C;\n",
              "      box-shadow: 0px 1px 3px 1px rgba(0, 0, 0, 0.15);\n",
              "      filter: drop-shadow(0px 1px 2px rgba(0, 0, 0, 0.3));\n",
              "      fill: #FFFFFF;\n",
              "    }\n",
              "  </style>\n",
              "\n",
              "      <script>\n",
              "        const buttonEl =\n",
              "          document.querySelector('#df-c218d07b-49ef-40a2-ad34-6e4883717ae7 button.colab-df-convert');\n",
              "        buttonEl.style.display =\n",
              "          google.colab.kernel.accessAllowed ? 'block' : 'none';\n",
              "\n",
              "        async function convertToInteractive(key) {\n",
              "          const element = document.querySelector('#df-c218d07b-49ef-40a2-ad34-6e4883717ae7');\n",
              "          const dataTable =\n",
              "            await google.colab.kernel.invokeFunction('convertToInteractive',\n",
              "                                                     [key], {});\n",
              "          if (!dataTable) return;\n",
              "\n",
              "          const docLinkHtml = 'Like what you see? Visit the ' +\n",
              "            '<a target=\"_blank\" href=https://colab.research.google.com/notebooks/data_table.ipynb>data table notebook</a>'\n",
              "            + ' to learn more about interactive tables.';\n",
              "          element.innerHTML = '';\n",
              "          dataTable['output_type'] = 'display_data';\n",
              "          await google.colab.output.renderOutput(dataTable, element);\n",
              "          const docLink = document.createElement('div');\n",
              "          docLink.innerHTML = docLinkHtml;\n",
              "          element.appendChild(docLink);\n",
              "        }\n",
              "      </script>\n",
              "    </div>\n",
              "  </div>\n",
              "  "
            ],
            "text/plain": [
              "                   user_name          user_location  \\\n",
              "0                  Doug Webb        Probably Europe   \n",
              "1                Dan Reynish  Medicine Hat, Alberta   \n",
              "2                          🌤                    NaN   \n",
              "3  “IT IS WHAT IT IS.”🇰🇪🇳🇿🇺🇸                     WA   \n",
              "4                Mahima Sood                    NaN   \n",
              "\n",
              "                                    user_description         user_created  \\\n",
              "0  I develop methods for effective cooperation, w...  2015-12-12 15:22:58   \n",
              "1  News Anchor at Noon and 5 pm on CHAT TV. Canad...  2011-09-10 12:17:10   \n",
              "2                                                NaN  2011-06-01 02:23:57   \n",
              "3  Heliophile🌞☀️• #Rugby • Wildlifer • #HIV • #So...  2009-04-17 13:35:02   \n",
              "4  Amy Dunne X Holly Golightly || Data Scientist ...  2018-01-26 21:57:22   \n",
              "\n",
              "   user_followers  user_friends  user_favourites  user_verified  \\\n",
              "0             157           228              496          False   \n",
              "1            1722          2500            13912          False   \n",
              "2             880           585              205          False   \n",
              "3            1143          2692            11999          False   \n",
              "4              18            65              263          False   \n",
              "\n",
              "                  date                              hashtags  \\\n",
              "0  2020-09-15 22:53:36  ['theSocialDilemma', 'joinMastodon']   \n",
              "1  2020-09-12 04:43:03                        ['WeTheNorth']   \n",
              "2  2020-09-19 07:06:53                  ['TheSocialDilemma']   \n",
              "3  2020-09-12 18:28:18       ['TheSocialDilemma', 'Netflix']   \n",
              "4  2020-09-12 18:48:53                  ['TheSocialDilemma']   \n",
              "\n",
              "               source  is_retweet  \\\n",
              "0     Twitter Web App       False   \n",
              "1     Twitter Web App       False   \n",
              "2  Twitter for iPhone       False   \n",
              "3  Twitter for iPhone       False   \n",
              "4  Twitter for iPhone       False   \n",
              "\n",
              "                                          clean_text  \n",
              "0           Watch theSocialDilemma then joinMastodon  \n",
              "1  With the 2019 2020 NBA season officially over ...  \n",
              "2  if you want to really know about people go tal...  \n",
              "3       Have you watched TheSocialDilemma on Netflix  \n",
              "4               Highly recommend TheSocialDilemma on  "
            ]
          },
          "metadata": {},
          "execution_count": 226
        }
      ]
    },
    {
      "cell_type": "code",
      "source": [
        "# creating the dataframe of the test dataset\n",
        "df_test = df_test.clean_text\n",
        "df_test = pd.DataFrame(df_test, columns=[\"clean_text\"])\n",
        "df_test"
      ],
      "metadata": {
        "colab": {
          "base_uri": "https://localhost:8080/",
          "height": 423
        },
        "id": "ki6FBRwVeHQQ",
        "outputId": "e8905a34-7867-4bff-9fc1-1fb33b068a95"
      },
      "execution_count": 227,
      "outputs": [
        {
          "output_type": "execute_result",
          "data": {
            "text/html": [
              "\n",
              "  <div id=\"df-16b09231-5a7e-4e54-9c2d-40d3af3966f5\">\n",
              "    <div class=\"colab-df-container\">\n",
              "      <div>\n",
              "<style scoped>\n",
              "    .dataframe tbody tr th:only-of-type {\n",
              "        vertical-align: middle;\n",
              "    }\n",
              "\n",
              "    .dataframe tbody tr th {\n",
              "        vertical-align: top;\n",
              "    }\n",
              "\n",
              "    .dataframe thead th {\n",
              "        text-align: right;\n",
              "    }\n",
              "</style>\n",
              "<table border=\"1\" class=\"dataframe\">\n",
              "  <thead>\n",
              "    <tr style=\"text-align: right;\">\n",
              "      <th></th>\n",
              "      <th>clean_text</th>\n",
              "    </tr>\n",
              "  </thead>\n",
              "  <tbody>\n",
              "    <tr>\n",
              "      <th>0</th>\n",
              "      <td>Watch theSocialDilemma then joinMastodon</td>\n",
              "    </tr>\n",
              "    <tr>\n",
              "      <th>1</th>\n",
              "      <td>With the 2019 2020 NBA season officially over ...</td>\n",
              "    </tr>\n",
              "    <tr>\n",
              "      <th>2</th>\n",
              "      <td>if you want to really know about people go tal...</td>\n",
              "    </tr>\n",
              "    <tr>\n",
              "      <th>3</th>\n",
              "      <td>Have you watched TheSocialDilemma on Netflix</td>\n",
              "    </tr>\n",
              "    <tr>\n",
              "      <th>4</th>\n",
              "      <td>Highly recommend TheSocialDilemma on</td>\n",
              "    </tr>\n",
              "    <tr>\n",
              "      <th>...</th>\n",
              "      <td>...</td>\n",
              "    </tr>\n",
              "    <tr>\n",
              "      <th>3063</th>\n",
              "      <td>Everybody should watch TheSocialDilemma</td>\n",
              "    </tr>\n",
              "    <tr>\n",
              "      <th>3064</th>\n",
              "      <td>Enjoyed TheSocialDilemma Then read this</td>\n",
              "    </tr>\n",
              "    <tr>\n",
              "      <th>3065</th>\n",
              "      <td>Couldn t stop thinking about docu TheSocialDil...</td>\n",
              "    </tr>\n",
              "    <tr>\n",
              "      <th>3066</th>\n",
              "      <td>This was the best one by on TheSocialDilemma on</td>\n",
              "    </tr>\n",
              "    <tr>\n",
              "      <th>3067</th>\n",
              "      <td>TheSocialDilemma on Netflix wow</td>\n",
              "    </tr>\n",
              "  </tbody>\n",
              "</table>\n",
              "<p>3068 rows × 1 columns</p>\n",
              "</div>\n",
              "      <button class=\"colab-df-convert\" onclick=\"convertToInteractive('df-16b09231-5a7e-4e54-9c2d-40d3af3966f5')\"\n",
              "              title=\"Convert this dataframe to an interactive table.\"\n",
              "              style=\"display:none;\">\n",
              "        \n",
              "  <svg xmlns=\"http://www.w3.org/2000/svg\" height=\"24px\"viewBox=\"0 0 24 24\"\n",
              "       width=\"24px\">\n",
              "    <path d=\"M0 0h24v24H0V0z\" fill=\"none\"/>\n",
              "    <path d=\"M18.56 5.44l.94 2.06.94-2.06 2.06-.94-2.06-.94-.94-2.06-.94 2.06-2.06.94zm-11 1L8.5 8.5l.94-2.06 2.06-.94-2.06-.94L8.5 2.5l-.94 2.06-2.06.94zm10 10l.94 2.06.94-2.06 2.06-.94-2.06-.94-.94-2.06-.94 2.06-2.06.94z\"/><path d=\"M17.41 7.96l-1.37-1.37c-.4-.4-.92-.59-1.43-.59-.52 0-1.04.2-1.43.59L10.3 9.45l-7.72 7.72c-.78.78-.78 2.05 0 2.83L4 21.41c.39.39.9.59 1.41.59.51 0 1.02-.2 1.41-.59l7.78-7.78 2.81-2.81c.8-.78.8-2.07 0-2.86zM5.41 20L4 18.59l7.72-7.72 1.47 1.35L5.41 20z\"/>\n",
              "  </svg>\n",
              "      </button>\n",
              "      \n",
              "  <style>\n",
              "    .colab-df-container {\n",
              "      display:flex;\n",
              "      flex-wrap:wrap;\n",
              "      gap: 12px;\n",
              "    }\n",
              "\n",
              "    .colab-df-convert {\n",
              "      background-color: #E8F0FE;\n",
              "      border: none;\n",
              "      border-radius: 50%;\n",
              "      cursor: pointer;\n",
              "      display: none;\n",
              "      fill: #1967D2;\n",
              "      height: 32px;\n",
              "      padding: 0 0 0 0;\n",
              "      width: 32px;\n",
              "    }\n",
              "\n",
              "    .colab-df-convert:hover {\n",
              "      background-color: #E2EBFA;\n",
              "      box-shadow: 0px 1px 2px rgba(60, 64, 67, 0.3), 0px 1px 3px 1px rgba(60, 64, 67, 0.15);\n",
              "      fill: #174EA6;\n",
              "    }\n",
              "\n",
              "    [theme=dark] .colab-df-convert {\n",
              "      background-color: #3B4455;\n",
              "      fill: #D2E3FC;\n",
              "    }\n",
              "\n",
              "    [theme=dark] .colab-df-convert:hover {\n",
              "      background-color: #434B5C;\n",
              "      box-shadow: 0px 1px 3px 1px rgba(0, 0, 0, 0.15);\n",
              "      filter: drop-shadow(0px 1px 2px rgba(0, 0, 0, 0.3));\n",
              "      fill: #FFFFFF;\n",
              "    }\n",
              "  </style>\n",
              "\n",
              "      <script>\n",
              "        const buttonEl =\n",
              "          document.querySelector('#df-16b09231-5a7e-4e54-9c2d-40d3af3966f5 button.colab-df-convert');\n",
              "        buttonEl.style.display =\n",
              "          google.colab.kernel.accessAllowed ? 'block' : 'none';\n",
              "\n",
              "        async function convertToInteractive(key) {\n",
              "          const element = document.querySelector('#df-16b09231-5a7e-4e54-9c2d-40d3af3966f5');\n",
              "          const dataTable =\n",
              "            await google.colab.kernel.invokeFunction('convertToInteractive',\n",
              "                                                     [key], {});\n",
              "          if (!dataTable) return;\n",
              "\n",
              "          const docLinkHtml = 'Like what you see? Visit the ' +\n",
              "            '<a target=\"_blank\" href=https://colab.research.google.com/notebooks/data_table.ipynb>data table notebook</a>'\n",
              "            + ' to learn more about interactive tables.';\n",
              "          element.innerHTML = '';\n",
              "          dataTable['output_type'] = 'display_data';\n",
              "          await google.colab.output.renderOutput(dataTable, element);\n",
              "          const docLink = document.createElement('div');\n",
              "          docLink.innerHTML = docLinkHtml;\n",
              "          element.appendChild(docLink);\n",
              "        }\n",
              "      </script>\n",
              "    </div>\n",
              "  </div>\n",
              "  "
            ],
            "text/plain": [
              "                                             clean_text\n",
              "0              Watch theSocialDilemma then joinMastodon\n",
              "1     With the 2019 2020 NBA season officially over ...\n",
              "2     if you want to really know about people go tal...\n",
              "3          Have you watched TheSocialDilemma on Netflix\n",
              "4                  Highly recommend TheSocialDilemma on\n",
              "...                                                 ...\n",
              "3063            Everybody should watch TheSocialDilemma\n",
              "3064            Enjoyed TheSocialDilemma Then read this\n",
              "3065  Couldn t stop thinking about docu TheSocialDil...\n",
              "3066    This was the best one by on TheSocialDilemma on\n",
              "3067                    TheSocialDilemma on Netflix wow\n",
              "\n",
              "[3068 rows x 1 columns]"
            ]
          },
          "metadata": {},
          "execution_count": 227
        }
      ]
    },
    {
      "cell_type": "code",
      "source": [
        "#drop the null vaulues\n",
        "df_test = df_test.dropna()"
      ],
      "metadata": {
        "id": "whQnDXF4iMpo"
      },
      "execution_count": 228,
      "outputs": []
    },
    {
      "cell_type": "code",
      "source": [
        "#Assigning the labels on the unseen data\n",
        "sample_text = df_test[\"clean_text\"][2]\n",
        "\n",
        "prediction = rnn.predict(np.array([sample_text]))\n",
        "pred=[np.argmax(i) for i in prediction]\n",
        "if np.argmax(prediction) == 0:\n",
        "    print(\"Negative\")\n",
        "elif np.argmax(prediction) == 1:\n",
        "    print(\"Positive\")\n",
        "else:\n",
        "    print(\"Neutral\")\n",
        "pred"
      ],
      "metadata": {
        "colab": {
          "base_uri": "https://localhost:8080/"
        },
        "id": "QoXtYwjhcigc",
        "outputId": "d555fd26-becd-4068-8cdf-cdc0dbc3e045"
      },
      "execution_count": 229,
      "outputs": [
        {
          "output_type": "stream",
          "name": "stdout",
          "text": [
            "Positive\n"
          ]
        },
        {
          "output_type": "execute_result",
          "data": {
            "text/plain": [
              "[1]"
            ]
          },
          "metadata": {},
          "execution_count": 229
        }
      ]
    },
    {
      "cell_type": "markdown",
      "source": [
        "**STEP8 - MAKING PREDICTION ON UNSEEN DATA**"
      ],
      "metadata": {
        "id": "i0LYfIvq1b2P"
      }
    },
    {
      "cell_type": "code",
      "source": [
        "#Making the prediction on the unseen data\n",
        "y_pred = rnn.predict(np.array(df_test[\"clean_text\"]))\n",
        "y_pred[:10]"
      ],
      "metadata": {
        "colab": {
          "base_uri": "https://localhost:8080/"
        },
        "id": "1ElqqVKUkWyX",
        "outputId": "3f605d1b-9399-40a5-fd11-74dbb1addb0a"
      },
      "execution_count": 230,
      "outputs": [
        {
          "output_type": "execute_result",
          "data": {
            "text/plain": [
              "array([[5.68874297e-04, 8.48949421e-04, 9.98582244e-01],\n",
              "       [3.79165769e-01, 2.57483032e-02, 5.95085859e-01],\n",
              "       [2.30608450e-04, 9.99769151e-01, 1.90041789e-07],\n",
              "       [4.62552393e-03, 1.40765775e-02, 9.81297851e-01],\n",
              "       [1.10107269e-02, 9.88714993e-01, 2.74254358e-04],\n",
              "       [5.77011220e-02, 9.40144002e-01, 2.15481198e-03],\n",
              "       [4.61323140e-03, 2.39350259e-01, 7.56036520e-01],\n",
              "       [1.53868692e-04, 1.15944204e-06, 9.99844909e-01],\n",
              "       [1.22888768e-02, 9.87174034e-01, 5.37067594e-04],\n",
              "       [2.16776673e-02, 9.75360811e-01, 2.96160439e-03]], dtype=float32)"
            ]
          },
          "metadata": {},
          "execution_count": 230
        }
      ]
    },
    {
      "cell_type": "code",
      "source": [
        "# create new column for prediction on 3 label\n",
        "df_test[\"Predicted_label\"] = np.argmax(y_pred, axis=1)"
      ],
      "metadata": {
        "colab": {
          "base_uri": "https://localhost:8080/"
        },
        "id": "T-07BfBWkWsy",
        "outputId": "28d0fb95-663b-4cd4-a0ec-6590eb7a0cea"
      },
      "execution_count": 231,
      "outputs": [
        {
          "output_type": "stream",
          "name": "stderr",
          "text": [
            "/usr/local/lib/python3.7/dist-packages/ipykernel_launcher.py:2: SettingWithCopyWarning: \n",
            "A value is trying to be set on a copy of a slice from a DataFrame.\n",
            "Try using .loc[row_indexer,col_indexer] = value instead\n",
            "\n",
            "See the caveats in the documentation: https://pandas.pydata.org/pandas-docs/stable/user_guide/indexing.html#returning-a-view-versus-a-copy\n",
            "  \n"
          ]
        }
      ]
    },
    {
      "cell_type": "code",
      "source": [
        "#Assigned the predicted values to unseen tweets(Test data)\n",
        "df_test.head()"
      ],
      "metadata": {
        "colab": {
          "base_uri": "https://localhost:8080/",
          "height": 206
        },
        "id": "jBHO3yfXkWl3",
        "outputId": "176d0006-f979-469c-fdb9-076509d87ef4"
      },
      "execution_count": 232,
      "outputs": [
        {
          "output_type": "execute_result",
          "data": {
            "text/html": [
              "\n",
              "  <div id=\"df-cbb13782-2a85-414d-a3f1-fb17f71b459e\">\n",
              "    <div class=\"colab-df-container\">\n",
              "      <div>\n",
              "<style scoped>\n",
              "    .dataframe tbody tr th:only-of-type {\n",
              "        vertical-align: middle;\n",
              "    }\n",
              "\n",
              "    .dataframe tbody tr th {\n",
              "        vertical-align: top;\n",
              "    }\n",
              "\n",
              "    .dataframe thead th {\n",
              "        text-align: right;\n",
              "    }\n",
              "</style>\n",
              "<table border=\"1\" class=\"dataframe\">\n",
              "  <thead>\n",
              "    <tr style=\"text-align: right;\">\n",
              "      <th></th>\n",
              "      <th>clean_text</th>\n",
              "      <th>Predicted_label</th>\n",
              "    </tr>\n",
              "  </thead>\n",
              "  <tbody>\n",
              "    <tr>\n",
              "      <th>0</th>\n",
              "      <td>Watch theSocialDilemma then joinMastodon</td>\n",
              "      <td>2</td>\n",
              "    </tr>\n",
              "    <tr>\n",
              "      <th>1</th>\n",
              "      <td>With the 2019 2020 NBA season officially over ...</td>\n",
              "      <td>2</td>\n",
              "    </tr>\n",
              "    <tr>\n",
              "      <th>2</th>\n",
              "      <td>if you want to really know about people go tal...</td>\n",
              "      <td>1</td>\n",
              "    </tr>\n",
              "    <tr>\n",
              "      <th>3</th>\n",
              "      <td>Have you watched TheSocialDilemma on Netflix</td>\n",
              "      <td>2</td>\n",
              "    </tr>\n",
              "    <tr>\n",
              "      <th>4</th>\n",
              "      <td>Highly recommend TheSocialDilemma on</td>\n",
              "      <td>1</td>\n",
              "    </tr>\n",
              "  </tbody>\n",
              "</table>\n",
              "</div>\n",
              "      <button class=\"colab-df-convert\" onclick=\"convertToInteractive('df-cbb13782-2a85-414d-a3f1-fb17f71b459e')\"\n",
              "              title=\"Convert this dataframe to an interactive table.\"\n",
              "              style=\"display:none;\">\n",
              "        \n",
              "  <svg xmlns=\"http://www.w3.org/2000/svg\" height=\"24px\"viewBox=\"0 0 24 24\"\n",
              "       width=\"24px\">\n",
              "    <path d=\"M0 0h24v24H0V0z\" fill=\"none\"/>\n",
              "    <path d=\"M18.56 5.44l.94 2.06.94-2.06 2.06-.94-2.06-.94-.94-2.06-.94 2.06-2.06.94zm-11 1L8.5 8.5l.94-2.06 2.06-.94-2.06-.94L8.5 2.5l-.94 2.06-2.06.94zm10 10l.94 2.06.94-2.06 2.06-.94-2.06-.94-.94-2.06-.94 2.06-2.06.94z\"/><path d=\"M17.41 7.96l-1.37-1.37c-.4-.4-.92-.59-1.43-.59-.52 0-1.04.2-1.43.59L10.3 9.45l-7.72 7.72c-.78.78-.78 2.05 0 2.83L4 21.41c.39.39.9.59 1.41.59.51 0 1.02-.2 1.41-.59l7.78-7.78 2.81-2.81c.8-.78.8-2.07 0-2.86zM5.41 20L4 18.59l7.72-7.72 1.47 1.35L5.41 20z\"/>\n",
              "  </svg>\n",
              "      </button>\n",
              "      \n",
              "  <style>\n",
              "    .colab-df-container {\n",
              "      display:flex;\n",
              "      flex-wrap:wrap;\n",
              "      gap: 12px;\n",
              "    }\n",
              "\n",
              "    .colab-df-convert {\n",
              "      background-color: #E8F0FE;\n",
              "      border: none;\n",
              "      border-radius: 50%;\n",
              "      cursor: pointer;\n",
              "      display: none;\n",
              "      fill: #1967D2;\n",
              "      height: 32px;\n",
              "      padding: 0 0 0 0;\n",
              "      width: 32px;\n",
              "    }\n",
              "\n",
              "    .colab-df-convert:hover {\n",
              "      background-color: #E2EBFA;\n",
              "      box-shadow: 0px 1px 2px rgba(60, 64, 67, 0.3), 0px 1px 3px 1px rgba(60, 64, 67, 0.15);\n",
              "      fill: #174EA6;\n",
              "    }\n",
              "\n",
              "    [theme=dark] .colab-df-convert {\n",
              "      background-color: #3B4455;\n",
              "      fill: #D2E3FC;\n",
              "    }\n",
              "\n",
              "    [theme=dark] .colab-df-convert:hover {\n",
              "      background-color: #434B5C;\n",
              "      box-shadow: 0px 1px 3px 1px rgba(0, 0, 0, 0.15);\n",
              "      filter: drop-shadow(0px 1px 2px rgba(0, 0, 0, 0.3));\n",
              "      fill: #FFFFFF;\n",
              "    }\n",
              "  </style>\n",
              "\n",
              "      <script>\n",
              "        const buttonEl =\n",
              "          document.querySelector('#df-cbb13782-2a85-414d-a3f1-fb17f71b459e button.colab-df-convert');\n",
              "        buttonEl.style.display =\n",
              "          google.colab.kernel.accessAllowed ? 'block' : 'none';\n",
              "\n",
              "        async function convertToInteractive(key) {\n",
              "          const element = document.querySelector('#df-cbb13782-2a85-414d-a3f1-fb17f71b459e');\n",
              "          const dataTable =\n",
              "            await google.colab.kernel.invokeFunction('convertToInteractive',\n",
              "                                                     [key], {});\n",
              "          if (!dataTable) return;\n",
              "\n",
              "          const docLinkHtml = 'Like what you see? Visit the ' +\n",
              "            '<a target=\"_blank\" href=https://colab.research.google.com/notebooks/data_table.ipynb>data table notebook</a>'\n",
              "            + ' to learn more about interactive tables.';\n",
              "          element.innerHTML = '';\n",
              "          dataTable['output_type'] = 'display_data';\n",
              "          await google.colab.output.renderOutput(dataTable, element);\n",
              "          const docLink = document.createElement('div');\n",
              "          docLink.innerHTML = docLinkHtml;\n",
              "          element.appendChild(docLink);\n",
              "        }\n",
              "      </script>\n",
              "    </div>\n",
              "  </div>\n",
              "  "
            ],
            "text/plain": [
              "                                          clean_text  Predicted_label\n",
              "0           Watch theSocialDilemma then joinMastodon                2\n",
              "1  With the 2019 2020 NBA season officially over ...                2\n",
              "2  if you want to really know about people go tal...                1\n",
              "3       Have you watched TheSocialDilemma on Netflix                2\n",
              "4               Highly recommend TheSocialDilemma on                1"
            ]
          },
          "metadata": {},
          "execution_count": 232
        }
      ]
    },
    {
      "cell_type": "code",
      "source": [
        "#Creating a dictionary and assigning Sentiments to the labels\n",
        "sentiments = {0:\"Negative\",1:\"Positive\",2:\"Neutral\"}\n",
        "df_test[\"Sentiment\"] = df_test[\"Predicted_label\"].map(sentiments)\n",
        "df_test"
      ],
      "metadata": {
        "colab": {
          "base_uri": "https://localhost:8080/",
          "height": 534
        },
        "id": "mxrwYEyQk7K2",
        "outputId": "404ae007-1a66-49fb-dab1-dc43af2d8f45"
      },
      "execution_count": 233,
      "outputs": [
        {
          "output_type": "stream",
          "name": "stderr",
          "text": [
            "/usr/local/lib/python3.7/dist-packages/ipykernel_launcher.py:3: SettingWithCopyWarning: \n",
            "A value is trying to be set on a copy of a slice from a DataFrame.\n",
            "Try using .loc[row_indexer,col_indexer] = value instead\n",
            "\n",
            "See the caveats in the documentation: https://pandas.pydata.org/pandas-docs/stable/user_guide/indexing.html#returning-a-view-versus-a-copy\n",
            "  This is separate from the ipykernel package so we can avoid doing imports until\n"
          ]
        },
        {
          "output_type": "execute_result",
          "data": {
            "text/html": [
              "\n",
              "  <div id=\"df-16e92444-49ec-4917-a664-da3cd5d5ffdb\">\n",
              "    <div class=\"colab-df-container\">\n",
              "      <div>\n",
              "<style scoped>\n",
              "    .dataframe tbody tr th:only-of-type {\n",
              "        vertical-align: middle;\n",
              "    }\n",
              "\n",
              "    .dataframe tbody tr th {\n",
              "        vertical-align: top;\n",
              "    }\n",
              "\n",
              "    .dataframe thead th {\n",
              "        text-align: right;\n",
              "    }\n",
              "</style>\n",
              "<table border=\"1\" class=\"dataframe\">\n",
              "  <thead>\n",
              "    <tr style=\"text-align: right;\">\n",
              "      <th></th>\n",
              "      <th>clean_text</th>\n",
              "      <th>Predicted_label</th>\n",
              "      <th>Sentiment</th>\n",
              "    </tr>\n",
              "  </thead>\n",
              "  <tbody>\n",
              "    <tr>\n",
              "      <th>0</th>\n",
              "      <td>Watch theSocialDilemma then joinMastodon</td>\n",
              "      <td>2</td>\n",
              "      <td>Neutral</td>\n",
              "    </tr>\n",
              "    <tr>\n",
              "      <th>1</th>\n",
              "      <td>With the 2019 2020 NBA season officially over ...</td>\n",
              "      <td>2</td>\n",
              "      <td>Neutral</td>\n",
              "    </tr>\n",
              "    <tr>\n",
              "      <th>2</th>\n",
              "      <td>if you want to really know about people go tal...</td>\n",
              "      <td>1</td>\n",
              "      <td>Positive</td>\n",
              "    </tr>\n",
              "    <tr>\n",
              "      <th>3</th>\n",
              "      <td>Have you watched TheSocialDilemma on Netflix</td>\n",
              "      <td>2</td>\n",
              "      <td>Neutral</td>\n",
              "    </tr>\n",
              "    <tr>\n",
              "      <th>4</th>\n",
              "      <td>Highly recommend TheSocialDilemma on</td>\n",
              "      <td>1</td>\n",
              "      <td>Positive</td>\n",
              "    </tr>\n",
              "    <tr>\n",
              "      <th>...</th>\n",
              "      <td>...</td>\n",
              "      <td>...</td>\n",
              "      <td>...</td>\n",
              "    </tr>\n",
              "    <tr>\n",
              "      <th>3063</th>\n",
              "      <td>Everybody should watch TheSocialDilemma</td>\n",
              "      <td>2</td>\n",
              "      <td>Neutral</td>\n",
              "    </tr>\n",
              "    <tr>\n",
              "      <th>3064</th>\n",
              "      <td>Enjoyed TheSocialDilemma Then read this</td>\n",
              "      <td>2</td>\n",
              "      <td>Neutral</td>\n",
              "    </tr>\n",
              "    <tr>\n",
              "      <th>3065</th>\n",
              "      <td>Couldn t stop thinking about docu TheSocialDil...</td>\n",
              "      <td>0</td>\n",
              "      <td>Negative</td>\n",
              "    </tr>\n",
              "    <tr>\n",
              "      <th>3066</th>\n",
              "      <td>This was the best one by on TheSocialDilemma on</td>\n",
              "      <td>1</td>\n",
              "      <td>Positive</td>\n",
              "    </tr>\n",
              "    <tr>\n",
              "      <th>3067</th>\n",
              "      <td>TheSocialDilemma on Netflix wow</td>\n",
              "      <td>1</td>\n",
              "      <td>Positive</td>\n",
              "    </tr>\n",
              "  </tbody>\n",
              "</table>\n",
              "<p>3067 rows × 3 columns</p>\n",
              "</div>\n",
              "      <button class=\"colab-df-convert\" onclick=\"convertToInteractive('df-16e92444-49ec-4917-a664-da3cd5d5ffdb')\"\n",
              "              title=\"Convert this dataframe to an interactive table.\"\n",
              "              style=\"display:none;\">\n",
              "        \n",
              "  <svg xmlns=\"http://www.w3.org/2000/svg\" height=\"24px\"viewBox=\"0 0 24 24\"\n",
              "       width=\"24px\">\n",
              "    <path d=\"M0 0h24v24H0V0z\" fill=\"none\"/>\n",
              "    <path d=\"M18.56 5.44l.94 2.06.94-2.06 2.06-.94-2.06-.94-.94-2.06-.94 2.06-2.06.94zm-11 1L8.5 8.5l.94-2.06 2.06-.94-2.06-.94L8.5 2.5l-.94 2.06-2.06.94zm10 10l.94 2.06.94-2.06 2.06-.94-2.06-.94-.94-2.06-.94 2.06-2.06.94z\"/><path d=\"M17.41 7.96l-1.37-1.37c-.4-.4-.92-.59-1.43-.59-.52 0-1.04.2-1.43.59L10.3 9.45l-7.72 7.72c-.78.78-.78 2.05 0 2.83L4 21.41c.39.39.9.59 1.41.59.51 0 1.02-.2 1.41-.59l7.78-7.78 2.81-2.81c.8-.78.8-2.07 0-2.86zM5.41 20L4 18.59l7.72-7.72 1.47 1.35L5.41 20z\"/>\n",
              "  </svg>\n",
              "      </button>\n",
              "      \n",
              "  <style>\n",
              "    .colab-df-container {\n",
              "      display:flex;\n",
              "      flex-wrap:wrap;\n",
              "      gap: 12px;\n",
              "    }\n",
              "\n",
              "    .colab-df-convert {\n",
              "      background-color: #E8F0FE;\n",
              "      border: none;\n",
              "      border-radius: 50%;\n",
              "      cursor: pointer;\n",
              "      display: none;\n",
              "      fill: #1967D2;\n",
              "      height: 32px;\n",
              "      padding: 0 0 0 0;\n",
              "      width: 32px;\n",
              "    }\n",
              "\n",
              "    .colab-df-convert:hover {\n",
              "      background-color: #E2EBFA;\n",
              "      box-shadow: 0px 1px 2px rgba(60, 64, 67, 0.3), 0px 1px 3px 1px rgba(60, 64, 67, 0.15);\n",
              "      fill: #174EA6;\n",
              "    }\n",
              "\n",
              "    [theme=dark] .colab-df-convert {\n",
              "      background-color: #3B4455;\n",
              "      fill: #D2E3FC;\n",
              "    }\n",
              "\n",
              "    [theme=dark] .colab-df-convert:hover {\n",
              "      background-color: #434B5C;\n",
              "      box-shadow: 0px 1px 3px 1px rgba(0, 0, 0, 0.15);\n",
              "      filter: drop-shadow(0px 1px 2px rgba(0, 0, 0, 0.3));\n",
              "      fill: #FFFFFF;\n",
              "    }\n",
              "  </style>\n",
              "\n",
              "      <script>\n",
              "        const buttonEl =\n",
              "          document.querySelector('#df-16e92444-49ec-4917-a664-da3cd5d5ffdb button.colab-df-convert');\n",
              "        buttonEl.style.display =\n",
              "          google.colab.kernel.accessAllowed ? 'block' : 'none';\n",
              "\n",
              "        async function convertToInteractive(key) {\n",
              "          const element = document.querySelector('#df-16e92444-49ec-4917-a664-da3cd5d5ffdb');\n",
              "          const dataTable =\n",
              "            await google.colab.kernel.invokeFunction('convertToInteractive',\n",
              "                                                     [key], {});\n",
              "          if (!dataTable) return;\n",
              "\n",
              "          const docLinkHtml = 'Like what you see? Visit the ' +\n",
              "            '<a target=\"_blank\" href=https://colab.research.google.com/notebooks/data_table.ipynb>data table notebook</a>'\n",
              "            + ' to learn more about interactive tables.';\n",
              "          element.innerHTML = '';\n",
              "          dataTable['output_type'] = 'display_data';\n",
              "          await google.colab.output.renderOutput(dataTable, element);\n",
              "          const docLink = document.createElement('div');\n",
              "          docLink.innerHTML = docLinkHtml;\n",
              "          element.appendChild(docLink);\n",
              "        }\n",
              "      </script>\n",
              "    </div>\n",
              "  </div>\n",
              "  "
            ],
            "text/plain": [
              "                                             clean_text  Predicted_label  \\\n",
              "0              Watch theSocialDilemma then joinMastodon                2   \n",
              "1     With the 2019 2020 NBA season officially over ...                2   \n",
              "2     if you want to really know about people go tal...                1   \n",
              "3          Have you watched TheSocialDilemma on Netflix                2   \n",
              "4                  Highly recommend TheSocialDilemma on                1   \n",
              "...                                                 ...              ...   \n",
              "3063            Everybody should watch TheSocialDilemma                2   \n",
              "3064            Enjoyed TheSocialDilemma Then read this                2   \n",
              "3065  Couldn t stop thinking about docu TheSocialDil...                0   \n",
              "3066    This was the best one by on TheSocialDilemma on                1   \n",
              "3067                    TheSocialDilemma on Netflix wow                1   \n",
              "\n",
              "     Sentiment  \n",
              "0      Neutral  \n",
              "1      Neutral  \n",
              "2     Positive  \n",
              "3      Neutral  \n",
              "4     Positive  \n",
              "...        ...  \n",
              "3063   Neutral  \n",
              "3064   Neutral  \n",
              "3065  Negative  \n",
              "3066  Positive  \n",
              "3067  Positive  \n",
              "\n",
              "[3067 rows x 3 columns]"
            ]
          },
          "metadata": {},
          "execution_count": 233
        }
      ]
    },
    {
      "cell_type": "markdown",
      "source": [
        "**STEP9 - VISUALIZING THE DISTRIBUTION OF SENTIMENT ON UNSEEN DATA**"
      ],
      "metadata": {
        "id": "Bi77KyFA1ioL"
      }
    },
    {
      "cell_type": "code",
      "source": [
        "sns.countplot(df_test[\"Sentiment\"])\n",
        "plt.show()"
      ],
      "metadata": {
        "colab": {
          "base_uri": "https://localhost:8080/",
          "height": 338
        },
        "id": "kUQrGX0T1h7I",
        "outputId": "c10062d6-e607-415e-913b-73cf750b99c7"
      },
      "execution_count": 237,
      "outputs": [
        {
          "output_type": "stream",
          "name": "stderr",
          "text": [
            "/usr/local/lib/python3.7/dist-packages/seaborn/_decorators.py:43: FutureWarning: Pass the following variable as a keyword arg: x. From version 0.12, the only valid positional argument will be `data`, and passing other arguments without an explicit keyword will result in an error or misinterpretation.\n",
            "  FutureWarning\n"
          ]
        },
        {
          "output_type": "display_data",
          "data": {
            "image/png": "[encoded data removed]",
            "text/plain": [
              "<Figure size 432x288 with 1 Axes>"
            ]
          },
          "metadata": {}
        }
      ]
    },
    {
      "cell_type": "markdown",
      "source": [
        "**STEP10 - CONCLUSION**"
      ],
      "metadata": {
        "id": "ZgtWNzX83J6s"
      }
    },
    {
      "cell_type": "markdown",
      "source": [
        "Hence we can conclude the accuracy of our Model is 84% approx\n",
        "\n",
        "          precision    recall  f1-score   support\n",
        "\n",
        "           0       0.72      0.71      0.71       670\n",
        "           1       0.88      0.88      0.88      1932\n",
        "           2       0.84      0.86      0.85      1390\n",
        "\n",
        "    accuracy                           84%      "
      ],
      "metadata": {
        "id": "SF2y7hn93ai_"
      }
    }
  ]
}